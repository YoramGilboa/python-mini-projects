{
  "metadata": {
    "kernelspec": {
      "display_name": "Python 3",
      "name": "python3"
    },
    "language_info": {
      "name": "python",
      "version": "3.7.12",
      "mimetype": "text/x-python",
      "codemirror_mode": {
        "name": "ipython",
        "version": 3
      },
      "pygments_lexer": "ipython3",
      "nbconvert_exporter": "python",
      "file_extension": ".py"
    },
    "kaggle": {
      "accelerator": "tpu1vmV38",
      "dataSources": [
        {
          "sourceId": 18278,
          "databundleVersionId": 968043,
          "sourceType": "competition"
        }
      ],
      "dockerImageVersionId": 30299,
      "isInternetEnabled": true,
      "language": "python",
      "sourceType": "notebook",
      "isGpuEnabled": false
    },
    "colab": {
      "name": "A Simple TF 2.1 notebook",
      "provenance": [],
      "gpuType": "V28",
      "include_colab_link": true
    },
    "accelerator": "TPU",
    "widgets": {
      "application/vnd.jupyter.widget-state+json": {
        "dd499cc0c6274a8d8296850d97cc5b8d": {
          "model_module": "@jupyter-widgets/controls",
          "model_name": "VBoxModel",
          "model_module_version": "1.5.0",
          "state": {
            "_dom_classes": [],
            "_model_module": "@jupyter-widgets/controls",
            "_model_module_version": "1.5.0",
            "_model_name": "VBoxModel",
            "_view_count": null,
            "_view_module": "@jupyter-widgets/controls",
            "_view_module_version": "1.5.0",
            "_view_name": "VBoxView",
            "box_style": "",
            "children": [
              "IPY_MODEL_40c0776cdf754294984f5142dee8275e"
            ],
            "layout": "IPY_MODEL_ecc7be86489240aaa7995da4348ed7e0"
          }
        },
        "82e2d1499fbf4bd69dcc854a79f5bad1": {
          "model_module": "@jupyter-widgets/controls",
          "model_name": "HTMLModel",
          "model_module_version": "1.5.0",
          "state": {
            "_dom_classes": [],
            "_model_module": "@jupyter-widgets/controls",
            "_model_module_version": "1.5.0",
            "_model_name": "HTMLModel",
            "_view_count": null,
            "_view_module": "@jupyter-widgets/controls",
            "_view_module_version": "1.5.0",
            "_view_name": "HTMLView",
            "description": "",
            "description_tooltip": null,
            "layout": "IPY_MODEL_546adc76f23841e594357b5b7ad57105",
            "placeholder": "​",
            "style": "IPY_MODEL_cbb61c1b5b8b442bbda95f09910a53b1",
            "value": "<center> <img\nsrc=https://www.kaggle.com/static/images/site-logo.png\nalt='Kaggle'> <br> Create an API token from <a\nhref=\"https://www.kaggle.com/settings/account\" target=\"_blank\">your Kaggle\nsettings page</a> and paste it below along with your Kaggle username. <br> </center>"
          }
        },
        "f6769d6692d34833ad424639f0369279": {
          "model_module": "@jupyter-widgets/controls",
          "model_name": "TextModel",
          "model_module_version": "1.5.0",
          "state": {
            "_dom_classes": [],
            "_model_module": "@jupyter-widgets/controls",
            "_model_module_version": "1.5.0",
            "_model_name": "TextModel",
            "_view_count": null,
            "_view_module": "@jupyter-widgets/controls",
            "_view_module_version": "1.5.0",
            "_view_name": "TextView",
            "continuous_update": true,
            "description": "Username:",
            "description_tooltip": null,
            "disabled": false,
            "layout": "IPY_MODEL_fe2aa29db751431d978a192aeb35782e",
            "placeholder": "​",
            "style": "IPY_MODEL_f1c1556324974e46a9f0f59c13ecaa7a",
            "value": "atlantaactuary"
          }
        },
        "1770b83f74284f4cbc11b55fb26173f7": {
          "model_module": "@jupyter-widgets/controls",
          "model_name": "PasswordModel",
          "model_module_version": "1.5.0",
          "state": {
            "_dom_classes": [],
            "_model_module": "@jupyter-widgets/controls",
            "_model_module_version": "1.5.0",
            "_model_name": "PasswordModel",
            "_view_count": null,
            "_view_module": "@jupyter-widgets/controls",
            "_view_module_version": "1.5.0",
            "_view_name": "PasswordView",
            "continuous_update": true,
            "description": "Token:",
            "description_tooltip": null,
            "disabled": false,
            "layout": "IPY_MODEL_701bfa8c56bf4fd0972b56d0e1851b50",
            "placeholder": "​",
            "style": "IPY_MODEL_d757c509aa4f424c96144a372d43f821",
            "value": ""
          }
        },
        "e5a0e7f5643a4c57b0659cdc639abab9": {
          "model_module": "@jupyter-widgets/controls",
          "model_name": "ButtonModel",
          "model_module_version": "1.5.0",
          "state": {
            "_dom_classes": [],
            "_model_module": "@jupyter-widgets/controls",
            "_model_module_version": "1.5.0",
            "_model_name": "ButtonModel",
            "_view_count": null,
            "_view_module": "@jupyter-widgets/controls",
            "_view_module_version": "1.5.0",
            "_view_name": "ButtonView",
            "button_style": "",
            "description": "Login",
            "disabled": false,
            "icon": "",
            "layout": "IPY_MODEL_6eb4fc21d1214f5ea3d2c86ddfc1879b",
            "style": "IPY_MODEL_5b4579f9950649c6b1b70e04f3f2d330",
            "tooltip": ""
          }
        },
        "6920eaca7350418fbb7f7cc0037d7e43": {
          "model_module": "@jupyter-widgets/controls",
          "model_name": "HTMLModel",
          "model_module_version": "1.5.0",
          "state": {
            "_dom_classes": [],
            "_model_module": "@jupyter-widgets/controls",
            "_model_module_version": "1.5.0",
            "_model_name": "HTMLModel",
            "_view_count": null,
            "_view_module": "@jupyter-widgets/controls",
            "_view_module_version": "1.5.0",
            "_view_name": "HTMLView",
            "description": "",
            "description_tooltip": null,
            "layout": "IPY_MODEL_2e0b365d629f4395a4406fa91e1ea91c",
            "placeholder": "​",
            "style": "IPY_MODEL_10b41340c8d542b7a394457551ef9fc2",
            "value": "\n<b>Thank You</b></center>"
          }
        },
        "ecc7be86489240aaa7995da4348ed7e0": {
          "model_module": "@jupyter-widgets/base",
          "model_name": "LayoutModel",
          "model_module_version": "1.2.0",
          "state": {
            "_model_module": "@jupyter-widgets/base",
            "_model_module_version": "1.2.0",
            "_model_name": "LayoutModel",
            "_view_count": null,
            "_view_module": "@jupyter-widgets/base",
            "_view_module_version": "1.2.0",
            "_view_name": "LayoutView",
            "align_content": null,
            "align_items": "center",
            "align_self": null,
            "border": null,
            "bottom": null,
            "display": "flex",
            "flex": null,
            "flex_flow": "column",
            "grid_area": null,
            "grid_auto_columns": null,
            "grid_auto_flow": null,
            "grid_auto_rows": null,
            "grid_column": null,
            "grid_gap": null,
            "grid_row": null,
            "grid_template_areas": null,
            "grid_template_columns": null,
            "grid_template_rows": null,
            "height": null,
            "justify_content": null,
            "justify_items": null,
            "left": null,
            "margin": null,
            "max_height": null,
            "max_width": null,
            "min_height": null,
            "min_width": null,
            "object_fit": null,
            "object_position": null,
            "order": null,
            "overflow": null,
            "overflow_x": null,
            "overflow_y": null,
            "padding": null,
            "right": null,
            "top": null,
            "visibility": null,
            "width": "50%"
          }
        },
        "546adc76f23841e594357b5b7ad57105": {
          "model_module": "@jupyter-widgets/base",
          "model_name": "LayoutModel",
          "model_module_version": "1.2.0",
          "state": {
            "_model_module": "@jupyter-widgets/base",
            "_model_module_version": "1.2.0",
            "_model_name": "LayoutModel",
            "_view_count": null,
            "_view_module": "@jupyter-widgets/base",
            "_view_module_version": "1.2.0",
            "_view_name": "LayoutView",
            "align_content": null,
            "align_items": null,
            "align_self": null,
            "border": null,
            "bottom": null,
            "display": null,
            "flex": null,
            "flex_flow": null,
            "grid_area": null,
            "grid_auto_columns": null,
            "grid_auto_flow": null,
            "grid_auto_rows": null,
            "grid_column": null,
            "grid_gap": null,
            "grid_row": null,
            "grid_template_areas": null,
            "grid_template_columns": null,
            "grid_template_rows": null,
            "height": null,
            "justify_content": null,
            "justify_items": null,
            "left": null,
            "margin": null,
            "max_height": null,
            "max_width": null,
            "min_height": null,
            "min_width": null,
            "object_fit": null,
            "object_position": null,
            "order": null,
            "overflow": null,
            "overflow_x": null,
            "overflow_y": null,
            "padding": null,
            "right": null,
            "top": null,
            "visibility": null,
            "width": null
          }
        },
        "cbb61c1b5b8b442bbda95f09910a53b1": {
          "model_module": "@jupyter-widgets/controls",
          "model_name": "DescriptionStyleModel",
          "model_module_version": "1.5.0",
          "state": {
            "_model_module": "@jupyter-widgets/controls",
            "_model_module_version": "1.5.0",
            "_model_name": "DescriptionStyleModel",
            "_view_count": null,
            "_view_module": "@jupyter-widgets/base",
            "_view_module_version": "1.2.0",
            "_view_name": "StyleView",
            "description_width": ""
          }
        },
        "fe2aa29db751431d978a192aeb35782e": {
          "model_module": "@jupyter-widgets/base",
          "model_name": "LayoutModel",
          "model_module_version": "1.2.0",
          "state": {
            "_model_module": "@jupyter-widgets/base",
            "_model_module_version": "1.2.0",
            "_model_name": "LayoutModel",
            "_view_count": null,
            "_view_module": "@jupyter-widgets/base",
            "_view_module_version": "1.2.0",
            "_view_name": "LayoutView",
            "align_content": null,
            "align_items": null,
            "align_self": null,
            "border": null,
            "bottom": null,
            "display": null,
            "flex": null,
            "flex_flow": null,
            "grid_area": null,
            "grid_auto_columns": null,
            "grid_auto_flow": null,
            "grid_auto_rows": null,
            "grid_column": null,
            "grid_gap": null,
            "grid_row": null,
            "grid_template_areas": null,
            "grid_template_columns": null,
            "grid_template_rows": null,
            "height": null,
            "justify_content": null,
            "justify_items": null,
            "left": null,
            "margin": null,
            "max_height": null,
            "max_width": null,
            "min_height": null,
            "min_width": null,
            "object_fit": null,
            "object_position": null,
            "order": null,
            "overflow": null,
            "overflow_x": null,
            "overflow_y": null,
            "padding": null,
            "right": null,
            "top": null,
            "visibility": null,
            "width": null
          }
        },
        "f1c1556324974e46a9f0f59c13ecaa7a": {
          "model_module": "@jupyter-widgets/controls",
          "model_name": "DescriptionStyleModel",
          "model_module_version": "1.5.0",
          "state": {
            "_model_module": "@jupyter-widgets/controls",
            "_model_module_version": "1.5.0",
            "_model_name": "DescriptionStyleModel",
            "_view_count": null,
            "_view_module": "@jupyter-widgets/base",
            "_view_module_version": "1.2.0",
            "_view_name": "StyleView",
            "description_width": ""
          }
        },
        "701bfa8c56bf4fd0972b56d0e1851b50": {
          "model_module": "@jupyter-widgets/base",
          "model_name": "LayoutModel",
          "model_module_version": "1.2.0",
          "state": {
            "_model_module": "@jupyter-widgets/base",
            "_model_module_version": "1.2.0",
            "_model_name": "LayoutModel",
            "_view_count": null,
            "_view_module": "@jupyter-widgets/base",
            "_view_module_version": "1.2.0",
            "_view_name": "LayoutView",
            "align_content": null,
            "align_items": null,
            "align_self": null,
            "border": null,
            "bottom": null,
            "display": null,
            "flex": null,
            "flex_flow": null,
            "grid_area": null,
            "grid_auto_columns": null,
            "grid_auto_flow": null,
            "grid_auto_rows": null,
            "grid_column": null,
            "grid_gap": null,
            "grid_row": null,
            "grid_template_areas": null,
            "grid_template_columns": null,
            "grid_template_rows": null,
            "height": null,
            "justify_content": null,
            "justify_items": null,
            "left": null,
            "margin": null,
            "max_height": null,
            "max_width": null,
            "min_height": null,
            "min_width": null,
            "object_fit": null,
            "object_position": null,
            "order": null,
            "overflow": null,
            "overflow_x": null,
            "overflow_y": null,
            "padding": null,
            "right": null,
            "top": null,
            "visibility": null,
            "width": null
          }
        },
        "d757c509aa4f424c96144a372d43f821": {
          "model_module": "@jupyter-widgets/controls",
          "model_name": "DescriptionStyleModel",
          "model_module_version": "1.5.0",
          "state": {
            "_model_module": "@jupyter-widgets/controls",
            "_model_module_version": "1.5.0",
            "_model_name": "DescriptionStyleModel",
            "_view_count": null,
            "_view_module": "@jupyter-widgets/base",
            "_view_module_version": "1.2.0",
            "_view_name": "StyleView",
            "description_width": ""
          }
        },
        "6eb4fc21d1214f5ea3d2c86ddfc1879b": {
          "model_module": "@jupyter-widgets/base",
          "model_name": "LayoutModel",
          "model_module_version": "1.2.0",
          "state": {
            "_model_module": "@jupyter-widgets/base",
            "_model_module_version": "1.2.0",
            "_model_name": "LayoutModel",
            "_view_count": null,
            "_view_module": "@jupyter-widgets/base",
            "_view_module_version": "1.2.0",
            "_view_name": "LayoutView",
            "align_content": null,
            "align_items": null,
            "align_self": null,
            "border": null,
            "bottom": null,
            "display": null,
            "flex": null,
            "flex_flow": null,
            "grid_area": null,
            "grid_auto_columns": null,
            "grid_auto_flow": null,
            "grid_auto_rows": null,
            "grid_column": null,
            "grid_gap": null,
            "grid_row": null,
            "grid_template_areas": null,
            "grid_template_columns": null,
            "grid_template_rows": null,
            "height": null,
            "justify_content": null,
            "justify_items": null,
            "left": null,
            "margin": null,
            "max_height": null,
            "max_width": null,
            "min_height": null,
            "min_width": null,
            "object_fit": null,
            "object_position": null,
            "order": null,
            "overflow": null,
            "overflow_x": null,
            "overflow_y": null,
            "padding": null,
            "right": null,
            "top": null,
            "visibility": null,
            "width": null
          }
        },
        "5b4579f9950649c6b1b70e04f3f2d330": {
          "model_module": "@jupyter-widgets/controls",
          "model_name": "ButtonStyleModel",
          "model_module_version": "1.5.0",
          "state": {
            "_model_module": "@jupyter-widgets/controls",
            "_model_module_version": "1.5.0",
            "_model_name": "ButtonStyleModel",
            "_view_count": null,
            "_view_module": "@jupyter-widgets/base",
            "_view_module_version": "1.2.0",
            "_view_name": "StyleView",
            "button_color": null,
            "font_weight": ""
          }
        },
        "2e0b365d629f4395a4406fa91e1ea91c": {
          "model_module": "@jupyter-widgets/base",
          "model_name": "LayoutModel",
          "model_module_version": "1.2.0",
          "state": {
            "_model_module": "@jupyter-widgets/base",
            "_model_module_version": "1.2.0",
            "_model_name": "LayoutModel",
            "_view_count": null,
            "_view_module": "@jupyter-widgets/base",
            "_view_module_version": "1.2.0",
            "_view_name": "LayoutView",
            "align_content": null,
            "align_items": null,
            "align_self": null,
            "border": null,
            "bottom": null,
            "display": null,
            "flex": null,
            "flex_flow": null,
            "grid_area": null,
            "grid_auto_columns": null,
            "grid_auto_flow": null,
            "grid_auto_rows": null,
            "grid_column": null,
            "grid_gap": null,
            "grid_row": null,
            "grid_template_areas": null,
            "grid_template_columns": null,
            "grid_template_rows": null,
            "height": null,
            "justify_content": null,
            "justify_items": null,
            "left": null,
            "margin": null,
            "max_height": null,
            "max_width": null,
            "min_height": null,
            "min_width": null,
            "object_fit": null,
            "object_position": null,
            "order": null,
            "overflow": null,
            "overflow_x": null,
            "overflow_y": null,
            "padding": null,
            "right": null,
            "top": null,
            "visibility": null,
            "width": null
          }
        },
        "10b41340c8d542b7a394457551ef9fc2": {
          "model_module": "@jupyter-widgets/controls",
          "model_name": "DescriptionStyleModel",
          "model_module_version": "1.5.0",
          "state": {
            "_model_module": "@jupyter-widgets/controls",
            "_model_module_version": "1.5.0",
            "_model_name": "DescriptionStyleModel",
            "_view_count": null,
            "_view_module": "@jupyter-widgets/base",
            "_view_module_version": "1.2.0",
            "_view_name": "StyleView",
            "description_width": ""
          }
        },
        "efa1b134dbb24200864c45d6fbd28bfd": {
          "model_module": "@jupyter-widgets/controls",
          "model_name": "LabelModel",
          "model_module_version": "1.5.0",
          "state": {
            "_dom_classes": [],
            "_model_module": "@jupyter-widgets/controls",
            "_model_module_version": "1.5.0",
            "_model_name": "LabelModel",
            "_view_count": null,
            "_view_module": "@jupyter-widgets/controls",
            "_view_module_version": "1.5.0",
            "_view_name": "LabelView",
            "description": "",
            "description_tooltip": null,
            "layout": "IPY_MODEL_4d2d519ed7794c3db81bb75a2c0e621d",
            "placeholder": "​",
            "style": "IPY_MODEL_7127220c74a2443eb04227883d6db6d6",
            "value": "Connecting..."
          }
        },
        "4d2d519ed7794c3db81bb75a2c0e621d": {
          "model_module": "@jupyter-widgets/base",
          "model_name": "LayoutModel",
          "model_module_version": "1.2.0",
          "state": {
            "_model_module": "@jupyter-widgets/base",
            "_model_module_version": "1.2.0",
            "_model_name": "LayoutModel",
            "_view_count": null,
            "_view_module": "@jupyter-widgets/base",
            "_view_module_version": "1.2.0",
            "_view_name": "LayoutView",
            "align_content": null,
            "align_items": null,
            "align_self": null,
            "border": null,
            "bottom": null,
            "display": null,
            "flex": null,
            "flex_flow": null,
            "grid_area": null,
            "grid_auto_columns": null,
            "grid_auto_flow": null,
            "grid_auto_rows": null,
            "grid_column": null,
            "grid_gap": null,
            "grid_row": null,
            "grid_template_areas": null,
            "grid_template_columns": null,
            "grid_template_rows": null,
            "height": null,
            "justify_content": null,
            "justify_items": null,
            "left": null,
            "margin": null,
            "max_height": null,
            "max_width": null,
            "min_height": null,
            "min_width": null,
            "object_fit": null,
            "object_position": null,
            "order": null,
            "overflow": null,
            "overflow_x": null,
            "overflow_y": null,
            "padding": null,
            "right": null,
            "top": null,
            "visibility": null,
            "width": null
          }
        },
        "7127220c74a2443eb04227883d6db6d6": {
          "model_module": "@jupyter-widgets/controls",
          "model_name": "DescriptionStyleModel",
          "model_module_version": "1.5.0",
          "state": {
            "_model_module": "@jupyter-widgets/controls",
            "_model_module_version": "1.5.0",
            "_model_name": "DescriptionStyleModel",
            "_view_count": null,
            "_view_module": "@jupyter-widgets/base",
            "_view_module_version": "1.2.0",
            "_view_name": "StyleView",
            "description_width": ""
          }
        },
        "40c0776cdf754294984f5142dee8275e": {
          "model_module": "@jupyter-widgets/controls",
          "model_name": "LabelModel",
          "model_module_version": "1.5.0",
          "state": {
            "_dom_classes": [],
            "_model_module": "@jupyter-widgets/controls",
            "_model_module_version": "1.5.0",
            "_model_name": "LabelModel",
            "_view_count": null,
            "_view_module": "@jupyter-widgets/controls",
            "_view_module_version": "1.5.0",
            "_view_name": "LabelView",
            "description": "",
            "description_tooltip": null,
            "layout": "IPY_MODEL_a7457f552d1d45d086cee6838e52ff30",
            "placeholder": "​",
            "style": "IPY_MODEL_5326ae99c72741c196cccfdb241cce7d",
            "value": "Kaggle credentials successfully validated."
          }
        },
        "a7457f552d1d45d086cee6838e52ff30": {
          "model_module": "@jupyter-widgets/base",
          "model_name": "LayoutModel",
          "model_module_version": "1.2.0",
          "state": {
            "_model_module": "@jupyter-widgets/base",
            "_model_module_version": "1.2.0",
            "_model_name": "LayoutModel",
            "_view_count": null,
            "_view_module": "@jupyter-widgets/base",
            "_view_module_version": "1.2.0",
            "_view_name": "LayoutView",
            "align_content": null,
            "align_items": null,
            "align_self": null,
            "border": null,
            "bottom": null,
            "display": null,
            "flex": null,
            "flex_flow": null,
            "grid_area": null,
            "grid_auto_columns": null,
            "grid_auto_flow": null,
            "grid_auto_rows": null,
            "grid_column": null,
            "grid_gap": null,
            "grid_row": null,
            "grid_template_areas": null,
            "grid_template_columns": null,
            "grid_template_rows": null,
            "height": null,
            "justify_content": null,
            "justify_items": null,
            "left": null,
            "margin": null,
            "max_height": null,
            "max_width": null,
            "min_height": null,
            "min_width": null,
            "object_fit": null,
            "object_position": null,
            "order": null,
            "overflow": null,
            "overflow_x": null,
            "overflow_y": null,
            "padding": null,
            "right": null,
            "top": null,
            "visibility": null,
            "width": null
          }
        },
        "5326ae99c72741c196cccfdb241cce7d": {
          "model_module": "@jupyter-widgets/controls",
          "model_name": "DescriptionStyleModel",
          "model_module_version": "1.5.0",
          "state": {
            "_model_module": "@jupyter-widgets/controls",
            "_model_module_version": "1.5.0",
            "_model_name": "DescriptionStyleModel",
            "_view_count": null,
            "_view_module": "@jupyter-widgets/base",
            "_view_module_version": "1.2.0",
            "_view_name": "StyleView",
            "description_width": ""
          }
        }
      }
    }
  },
  "nbformat_minor": 0,
  "nbformat": 4,
  "cells": [
    {
      "cell_type": "markdown",
      "metadata": {
        "id": "view-in-github",
        "colab_type": "text"
      },
      "source": [
        "<a href=\"https://colab.research.google.com/github/YoramGilboa/python-mini-projects/blob/master/A_Simple_TF_2_1_notebook.ipynb\" target=\"_parent\"><img src=\"https://colab.research.google.com/assets/colab-badge.svg\" alt=\"Open In Colab\"/></a>"
      ]
    },
    {
      "cell_type": "markdown",
      "source": [
        "Implementation using some sort of DevOps best practice:\n",
        "Code = in GitHub,\n",
        "Data = in GCS in the team-brisket-flowers-tpu bucket\n",
        "Compute = in Colab"
      ],
      "metadata": {
        "id": "ja0ftw31n8LP"
      }
    },
    {
      "cell_type": "markdown",
      "source": [
        "First need to get the flowers_data file if I don't have it already"
      ],
      "metadata": {
        "id": "vJBUwxfepgE5"
      }
    },
    {
      "cell_type": "code",
      "source": [
        "from google.colab import files\n",
        "files.upload()  # Upload kaggle.json"
      ],
      "metadata": {
        "colab": {
          "base_uri": "https://localhost:8080/",
          "height": 92
        },
        "id": "Cdjdq4fa3ITn",
        "outputId": "5a7327af-9660-4343-e1c8-9cbb09a656b6"
      },
      "execution_count": 6,
      "outputs": [
        {
          "output_type": "display_data",
          "data": {
            "text/plain": [
              "<IPython.core.display.HTML object>"
            ],
            "text/html": [
              "\n",
              "     <input type=\"file\" id=\"files-b8e3765a-0296-41f2-bf82-7a4d34b30b74\" name=\"files[]\" multiple disabled\n",
              "        style=\"border:none\" />\n",
              "     <output id=\"result-b8e3765a-0296-41f2-bf82-7a4d34b30b74\">\n",
              "      Upload widget is only available when the cell has been executed in the\n",
              "      current browser session. Please rerun this cell to enable.\n",
              "      </output>\n",
              "      <script>// Copyright 2017 Google LLC\n",
              "//\n",
              "// Licensed under the Apache License, Version 2.0 (the \"License\");\n",
              "// you may not use this file except in compliance with the License.\n",
              "// You may obtain a copy of the License at\n",
              "//\n",
              "//      http://www.apache.org/licenses/LICENSE-2.0\n",
              "//\n",
              "// Unless required by applicable law or agreed to in writing, software\n",
              "// distributed under the License is distributed on an \"AS IS\" BASIS,\n",
              "// WITHOUT WARRANTIES OR CONDITIONS OF ANY KIND, either express or implied.\n",
              "// See the License for the specific language governing permissions and\n",
              "// limitations under the License.\n",
              "\n",
              "/**\n",
              " * @fileoverview Helpers for google.colab Python module.\n",
              " */\n",
              "(function(scope) {\n",
              "function span(text, styleAttributes = {}) {\n",
              "  const element = document.createElement('span');\n",
              "  element.textContent = text;\n",
              "  for (const key of Object.keys(styleAttributes)) {\n",
              "    element.style[key] = styleAttributes[key];\n",
              "  }\n",
              "  return element;\n",
              "}\n",
              "\n",
              "// Max number of bytes which will be uploaded at a time.\n",
              "const MAX_PAYLOAD_SIZE = 100 * 1024;\n",
              "\n",
              "function _uploadFiles(inputId, outputId) {\n",
              "  const steps = uploadFilesStep(inputId, outputId);\n",
              "  const outputElement = document.getElementById(outputId);\n",
              "  // Cache steps on the outputElement to make it available for the next call\n",
              "  // to uploadFilesContinue from Python.\n",
              "  outputElement.steps = steps;\n",
              "\n",
              "  return _uploadFilesContinue(outputId);\n",
              "}\n",
              "\n",
              "// This is roughly an async generator (not supported in the browser yet),\n",
              "// where there are multiple asynchronous steps and the Python side is going\n",
              "// to poll for completion of each step.\n",
              "// This uses a Promise to block the python side on completion of each step,\n",
              "// then passes the result of the previous step as the input to the next step.\n",
              "function _uploadFilesContinue(outputId) {\n",
              "  const outputElement = document.getElementById(outputId);\n",
              "  const steps = outputElement.steps;\n",
              "\n",
              "  const next = steps.next(outputElement.lastPromiseValue);\n",
              "  return Promise.resolve(next.value.promise).then((value) => {\n",
              "    // Cache the last promise value to make it available to the next\n",
              "    // step of the generator.\n",
              "    outputElement.lastPromiseValue = value;\n",
              "    return next.value.response;\n",
              "  });\n",
              "}\n",
              "\n",
              "/**\n",
              " * Generator function which is called between each async step of the upload\n",
              " * process.\n",
              " * @param {string} inputId Element ID of the input file picker element.\n",
              " * @param {string} outputId Element ID of the output display.\n",
              " * @return {!Iterable<!Object>} Iterable of next steps.\n",
              " */\n",
              "function* uploadFilesStep(inputId, outputId) {\n",
              "  const inputElement = document.getElementById(inputId);\n",
              "  inputElement.disabled = false;\n",
              "\n",
              "  const outputElement = document.getElementById(outputId);\n",
              "  outputElement.innerHTML = '';\n",
              "\n",
              "  const pickedPromise = new Promise((resolve) => {\n",
              "    inputElement.addEventListener('change', (e) => {\n",
              "      resolve(e.target.files);\n",
              "    });\n",
              "  });\n",
              "\n",
              "  const cancel = document.createElement('button');\n",
              "  inputElement.parentElement.appendChild(cancel);\n",
              "  cancel.textContent = 'Cancel upload';\n",
              "  const cancelPromise = new Promise((resolve) => {\n",
              "    cancel.onclick = () => {\n",
              "      resolve(null);\n",
              "    };\n",
              "  });\n",
              "\n",
              "  // Wait for the user to pick the files.\n",
              "  const files = yield {\n",
              "    promise: Promise.race([pickedPromise, cancelPromise]),\n",
              "    response: {\n",
              "      action: 'starting',\n",
              "    }\n",
              "  };\n",
              "\n",
              "  cancel.remove();\n",
              "\n",
              "  // Disable the input element since further picks are not allowed.\n",
              "  inputElement.disabled = true;\n",
              "\n",
              "  if (!files) {\n",
              "    return {\n",
              "      response: {\n",
              "        action: 'complete',\n",
              "      }\n",
              "    };\n",
              "  }\n",
              "\n",
              "  for (const file of files) {\n",
              "    const li = document.createElement('li');\n",
              "    li.append(span(file.name, {fontWeight: 'bold'}));\n",
              "    li.append(span(\n",
              "        `(${file.type || 'n/a'}) - ${file.size} bytes, ` +\n",
              "        `last modified: ${\n",
              "            file.lastModifiedDate ? file.lastModifiedDate.toLocaleDateString() :\n",
              "                                    'n/a'} - `));\n",
              "    const percent = span('0% done');\n",
              "    li.appendChild(percent);\n",
              "\n",
              "    outputElement.appendChild(li);\n",
              "\n",
              "    const fileDataPromise = new Promise((resolve) => {\n",
              "      const reader = new FileReader();\n",
              "      reader.onload = (e) => {\n",
              "        resolve(e.target.result);\n",
              "      };\n",
              "      reader.readAsArrayBuffer(file);\n",
              "    });\n",
              "    // Wait for the data to be ready.\n",
              "    let fileData = yield {\n",
              "      promise: fileDataPromise,\n",
              "      response: {\n",
              "        action: 'continue',\n",
              "      }\n",
              "    };\n",
              "\n",
              "    // Use a chunked sending to avoid message size limits. See b/62115660.\n",
              "    let position = 0;\n",
              "    do {\n",
              "      const length = Math.min(fileData.byteLength - position, MAX_PAYLOAD_SIZE);\n",
              "      const chunk = new Uint8Array(fileData, position, length);\n",
              "      position += length;\n",
              "\n",
              "      const base64 = btoa(String.fromCharCode.apply(null, chunk));\n",
              "      yield {\n",
              "        response: {\n",
              "          action: 'append',\n",
              "          file: file.name,\n",
              "          data: base64,\n",
              "        },\n",
              "      };\n",
              "\n",
              "      let percentDone = fileData.byteLength === 0 ?\n",
              "          100 :\n",
              "          Math.round((position / fileData.byteLength) * 100);\n",
              "      percent.textContent = `${percentDone}% done`;\n",
              "\n",
              "    } while (position < fileData.byteLength);\n",
              "  }\n",
              "\n",
              "  // All done.\n",
              "  yield {\n",
              "    response: {\n",
              "      action: 'complete',\n",
              "    }\n",
              "  };\n",
              "}\n",
              "\n",
              "scope.google = scope.google || {};\n",
              "scope.google.colab = scope.google.colab || {};\n",
              "scope.google.colab._files = {\n",
              "  _uploadFiles,\n",
              "  _uploadFilesContinue,\n",
              "};\n",
              "})(self);\n",
              "</script> "
            ]
          },
          "metadata": {}
        },
        {
          "output_type": "stream",
          "name": "stdout",
          "text": [
            "Saving kaggle.json to kaggle.json\n"
          ]
        },
        {
          "output_type": "execute_result",
          "data": {
            "text/plain": [
              "{'kaggle.json': b'{\"username\":\"atlantaactuary\",\"key\":\"6ffd663c92d9b81a32c0721edf46ff50\"}'}"
            ]
          },
          "metadata": {},
          "execution_count": 6
        }
      ]
    },
    {
      "cell_type": "code",
      "source": [
        "import os\n",
        "os.makedirs('/root/.kaggle', exist_ok=True)\n",
        "!mv kaggle.json /root/.kaggle/\n",
        "!chmod 600 /root/.kaggle/kaggle.json\n"
      ],
      "metadata": {
        "id": "vRxu7-BB3eY-"
      },
      "execution_count": 7,
      "outputs": []
    },
    {
      "cell_type": "code",
      "source": [
        "!pip install -q kaggle"
      ],
      "metadata": {
        "id": "xLSkJFCLlC_M"
      },
      "execution_count": 8,
      "outputs": []
    },
    {
      "cell_type": "code",
      "source": [
        "!kaggle competitions download -c flower-classification-with-tpus\n"
      ],
      "metadata": {
        "id": "qUVVoSzy337r"
      },
      "execution_count": 9,
      "outputs": []
    },
    {
      "cell_type": "code",
      "source": [
        "!ls\n"
      ],
      "metadata": {
        "id": "d2FuLxsfqa4E",
        "outputId": "bbfdb2b8-b30e-43c7-e4aa-58d9cc4164b1",
        "colab": {
          "base_uri": "https://localhost:8080/"
        }
      },
      "execution_count": 10,
      "outputs": [
        {
          "output_type": "stream",
          "name": "stdout",
          "text": [
            "flower-classification-with-tpus.zip  sample_data\n"
          ]
        }
      ]
    },
    {
      "cell_type": "code",
      "source": [
        "!unzip -q flower-classification-with-tpus.zip -d flowers_data\n"
      ],
      "metadata": {
        "id": "TEoarcOg4dg-"
      },
      "execution_count": 11,
      "outputs": []
    },
    {
      "cell_type": "code",
      "source": [
        "!gsutil -m cp -r flowers_data gs://team-brisket-flowers-tpu/flowers_data\n"
      ],
      "metadata": {
        "collapsed": true,
        "id": "F8xee_DLqtdQ",
        "outputId": "6853036d-9a81-492f-c3aa-952d62abf490",
        "colab": {
          "base_uri": "https://localhost:8080/"
        }
      },
      "execution_count": 12,
      "outputs": [
        {
          "output_type": "stream",
          "name": "stdout",
          "text": [
            "Copying file://flowers_data/sample_submission.csv [Content-Type=text/csv]...\n",
            "/ [0/193 files][    0.0 B/  4.8 GiB]   0% Done                                  \rCopying file://flowers_data/tfrecords-jpeg-512x512/val/00-512x512-232.tfrec [Content-Type=application/octet-stream]...\n",
            "/ [0/193 files][    0.0 B/  4.8 GiB]   0% Done                                  \rCopying file://flowers_data/tfrecords-jpeg-512x512/val/07-512x512-232.tfrec [Content-Type=application/octet-stream]...\n",
            "/ [0/193 files][    0.0 B/  4.8 GiB]   0% Done                                  \rCopying file://flowers_data/tfrecords-jpeg-512x512/val/10-512x512-232.tfrec [Content-Type=application/octet-stream]...\n",
            "/ [0/193 files][    0.0 B/  4.8 GiB]   0% Done                                  \rCopying file://flowers_data/tfrecords-jpeg-512x512/val/14-512x512-232.tfrec [Content-Type=application/octet-stream]...\n",
            "/ [0/193 files][    0.0 B/  4.8 GiB]   0% Done                                  \rCopying file://flowers_data/tfrecords-jpeg-512x512/val/08-512x512-232.tfrec [Content-Type=application/octet-stream]...\n",
            "/ [0/193 files][    0.0 B/  4.8 GiB]   0% Done                                  \rCopying file://flowers_data/tfrecords-jpeg-512x512/val/01-512x512-232.tfrec [Content-Type=application/octet-stream]...\n",
            "/ [0/193 files][    0.0 B/  4.8 GiB]   0% Done                                  \rCopying file://flowers_data/tfrecords-jpeg-512x512/val/13-512x512-232.tfrec [Content-Type=application/octet-stream]...\n",
            "/ [0/193 files][    0.0 B/  4.8 GiB]   0% Done                                  \rCopying file://flowers_data/tfrecords-jpeg-512x512/val/06-512x512-232.tfrec [Content-Type=application/octet-stream]...\n",
            "/ [0/193 files][    0.0 B/  4.8 GiB]   0% Done                                  \rCopying file://flowers_data/tfrecords-jpeg-512x512/val/09-512x512-232.tfrec [Content-Type=application/octet-stream]...\n",
            "/ [0/193 files][    0.0 B/  4.8 GiB]   0% Done                                  \rCopying file://flowers_data/tfrecords-jpeg-512x512/val/11-512x512-232.tfrec [Content-Type=application/octet-stream]...\n",
            "/ [0/193 files][    0.0 B/  4.8 GiB]   0% Done                                  \rCopying file://flowers_data/tfrecords-jpeg-512x512/val/04-512x512-232.tfrec [Content-Type=application/octet-stream]...\n",
            "/ [0/193 files][    0.0 B/  4.8 GiB]   0% Done                                  \rCopying file://flowers_data/tfrecords-jpeg-512x512/val/03-512x512-232.tfrec [Content-Type=application/octet-stream]...\n",
            "/ [0/193 files][    0.0 B/  4.8 GiB]   0% Done                                  \rCopying file://flowers_data/tfrecords-jpeg-512x512/val/12-512x512-232.tfrec [Content-Type=application/octet-stream]...\n",
            "Copying file://flowers_data/tfrecords-jpeg-512x512/val/05-512x512-232.tfrec [Content-Type=application/octet-stream]...\n",
            "Copying file://flowers_data/tfrecords-jpeg-512x512/val/02-512x512-232.tfrec [Content-Type=application/octet-stream]...\n",
            "Copying file://flowers_data/tfrecords-jpeg-512x512/val/15-512x512-232.tfrec [Content-Type=application/octet-stream]...\n",
            "Copying file://flowers_data/tfrecords-jpeg-512x512/train/06-512x512-798.tfrec [Content-Type=application/octet-stream]...\n",
            "Copying file://flowers_data/tfrecords-jpeg-512x512/train/09-512x512-798.tfrec [Content-Type=application/octet-stream]...\n",
            "Copying file://flowers_data/tfrecords-jpeg-512x512/train/01-512x512-798.tfrec [Content-Type=application/octet-stream]...\n",
            "Copying file://flowers_data/tfrecords-jpeg-512x512/train/10-512x512-798.tfrec [Content-Type=application/octet-stream]...\n",
            "Copying file://flowers_data/tfrecords-jpeg-512x512/train/07-512x512-798.tfrec [Content-Type=application/octet-stream]...\n",
            "Copying file://flowers_data/tfrecords-jpeg-512x512/train/11-512x512-798.tfrec [Content-Type=application/octet-stream]...\n",
            "Copying file://flowers_data/tfrecords-jpeg-512x512/train/03-512x512-798.tfrec [Content-Type=application/octet-stream]...\n",
            "Copying file://flowers_data/tfrecords-jpeg-512x512/test/14-512x512-462.tfrec [Content-Type=application/octet-stream]...\n",
            "Copying file://flowers_data/tfrecords-jpeg-512x512/test/03-512x512-462.tfrec [Content-Type=application/octet-stream]...\n",
            "Copying file://flowers_data/tfrecords-jpeg-512x512/train/12-512x512-798.tfrec [Content-Type=application/octet-stream]...\n",
            "Copying file://flowers_data/tfrecords-jpeg-512x512/train/15-512x512-783.tfrec [Content-Type=application/octet-stream]...\n",
            "Copying file://flowers_data/tfrecords-jpeg-512x512/train/14-512x512-798.tfrec [Content-Type=application/octet-stream]...\n",
            "Copying file://flowers_data/tfrecords-jpeg-512x512/train/04-512x512-798.tfrec [Content-Type=application/octet-stream]...\n",
            "Copying file://flowers_data/tfrecords-jpeg-512x512/train/13-512x512-798.tfrec [Content-Type=application/octet-stream]...\n",
            "Copying file://flowers_data/tfrecords-jpeg-512x512/train/00-512x512-798.tfrec [Content-Type=application/octet-stream]...\n",
            "Copying file://flowers_data/tfrecords-jpeg-331x331/val/11-331x331-232.tfrec [Content-Type=application/octet-stream]...\n",
            "Copying file://flowers_data/tfrecords-jpeg-512x512/train/05-512x512-798.tfrec [Content-Type=application/octet-stream]...\n",
            "Copying file://flowers_data/tfrecords-jpeg-512x512/train/08-512x512-798.tfrec [Content-Type=application/octet-stream]...\n",
            "Copying file://flowers_data/tfrecords-jpeg-512x512/train/02-512x512-798.tfrec [Content-Type=application/octet-stream]...\n",
            "Copying file://flowers_data/tfrecords-jpeg-512x512/test/05-512x512-462.tfrec [Content-Type=application/octet-stream]...\n",
            "Copying file://flowers_data/tfrecords-jpeg-512x512/test/10-512x512-462.tfrec [Content-Type=application/octet-stream]...\n",
            "Copying file://flowers_data/tfrecords-jpeg-512x512/test/09-512x512-462.tfrec [Content-Type=application/octet-stream]...\n",
            "Copying file://flowers_data/tfrecords-jpeg-331x331/test/06-331x331-462.tfrec [Content-Type=application/octet-stream]...\n",
            "Copying file://flowers_data/tfrecords-jpeg-512x512/test/12-512x512-462.tfrec [Content-Type=application/octet-stream]...\n",
            "Copying file://flowers_data/tfrecords-jpeg-512x512/test/08-512x512-462.tfrec [Content-Type=application/octet-stream]...\n",
            "Copying file://flowers_data/tfrecords-jpeg-512x512/test/07-512x512-462.tfrec [Content-Type=application/octet-stream]...\n",
            "Copying file://flowers_data/tfrecords-jpeg-512x512/test/13-512x512-462.tfrec [Content-Type=application/octet-stream]...\n",
            "Copying file://flowers_data/tfrecords-jpeg-512x512/test/00-512x512-462.tfrec [Content-Type=application/octet-stream]...\n",
            "Copying file://flowers_data/tfrecords-jpeg-512x512/test/01-512x512-462.tfrec [Content-Type=application/octet-stream]...\n",
            "Copying file://flowers_data/tfrecords-jpeg-512x512/test/06-512x512-462.tfrec [Content-Type=application/octet-stream]...\n",
            "Copying file://flowers_data/tfrecords-jpeg-512x512/test/11-512x512-462.tfrec [Content-Type=application/octet-stream]...\n",
            "Copying file://flowers_data/tfrecords-jpeg-331x331/train/11-331x331-798.tfrec [Content-Type=application/octet-stream]...\n",
            "Copying file://flowers_data/tfrecords-jpeg-512x512/test/04-512x512-462.tfrec [Content-Type=application/octet-stream]...\n",
            "Copying file://flowers_data/tfrecords-jpeg-512x512/test/15-512x512-452.tfrec [Content-Type=application/octet-stream]...\n",
            "Copying file://flowers_data/tfrecords-jpeg-331x331/train/14-331x331-798.tfrec [Content-Type=application/octet-stream]...\n",
            "Copying file://flowers_data/tfrecords-jpeg-331x331/train/00-331x331-798.tfrec [Content-Type=application/octet-stream]...\n",
            "Copying file://flowers_data/tfrecords-jpeg-331x331/train/05-331x331-798.tfrec [Content-Type=application/octet-stream]...\n",
            "Copying file://flowers_data/tfrecords-jpeg-331x331/val/09-331x331-232.tfrec [Content-Type=application/octet-stream]...\n",
            "Copying file://flowers_data/tfrecords-jpeg-331x331/test/09-331x331-462.tfrec [Content-Type=application/octet-stream]...\n",
            "Copying file://flowers_data/tfrecords-jpeg-192x192/train/08-192x192-798.tfrec [Content-Type=application/octet-stream]...\n",
            "Copying file://flowers_data/tfrecords-jpeg-224x224/val/15-224x224-232.tfrec [Content-Type=application/octet-stream]...\n",
            "Copying file://flowers_data/tfrecords-jpeg-331x331/val/12-331x331-232.tfrec [Content-Type=application/octet-stream]...\n",
            "Copying file://flowers_data/tfrecords-jpeg-331x331/train/09-331x331-798.tfrec [Content-Type=application/octet-stream]...\n",
            "Copying file://flowers_data/tfrecords-jpeg-331x331/train/04-331x331-798.tfrec [Content-Type=application/octet-stream]...\n",
            "Copying file://flowers_data/tfrecords-jpeg-331x331/train/03-331x331-798.tfrec [Content-Type=application/octet-stream]...\n",
            "Copying file://flowers_data/tfrecords-jpeg-331x331/train/12-331x331-798.tfrec [Content-Type=application/octet-stream]...\n",
            "Copying file://flowers_data/tfrecords-jpeg-331x331/train/08-331x331-798.tfrec [Content-Type=application/octet-stream]...\n",
            "Copying file://flowers_data/tfrecords-jpeg-331x331/test/07-331x331-462.tfrec [Content-Type=application/octet-stream]...\n",
            "Copying file://flowers_data/tfrecords-jpeg-331x331/val/15-331x331-232.tfrec [Content-Type=application/octet-stream]...\n",
            "Copying file://flowers_data/tfrecords-jpeg-331x331/test/00-331x331-462.tfrec [Content-Type=application/octet-stream]...\n",
            "Copying file://flowers_data/tfrecords-jpeg-331x331/val/13-331x331-232.tfrec [Content-Type=application/octet-stream]...\n",
            "Copying file://flowers_data/tfrecords-jpeg-331x331/val/02-331x331-232.tfrec [Content-Type=application/octet-stream]...\n",
            "Copying file://flowers_data/tfrecords-jpeg-192x192/train/05-192x192-798.tfrec [Content-Type=application/octet-stream]...\n",
            "Copying file://flowers_data/tfrecords-jpeg-331x331/val/08-331x331-232.tfrec [Content-Type=application/octet-stream]...\n",
            "Copying file://flowers_data/tfrecords-jpeg-192x192/train/00-192x192-798.tfrec [Content-Type=application/octet-stream]...\n",
            "Copying file://flowers_data/tfrecords-jpeg-192x192/val/03-192x192-232.tfrec [Content-Type=application/octet-stream]...\n",
            "Copying file://flowers_data/tfrecords-jpeg-192x192/test/15-192x192-452.tfrec [Content-Type=application/octet-stream]...\n",
            "Copying file://flowers_data/tfrecords-jpeg-192x192/val/15-192x192-232.tfrec [Content-Type=application/octet-stream]...\n",
            "Copying file://flowers_data/tfrecords-jpeg-224x224/val/03-224x224-232.tfrec [Content-Type=application/octet-stream]...\n",
            "Copying file://flowers_data/tfrecords-jpeg-331x331/val/14-331x331-232.tfrec [Content-Type=application/octet-stream]...\n",
            "Copying file://flowers_data/tfrecords-jpeg-192x192/train/13-192x192-798.tfrec [Content-Type=application/octet-stream]...\n",
            "Copying file://flowers_data/tfrecords-jpeg-192x192/val/12-192x192-232.tfrec [Content-Type=application/octet-stream]...\n",
            "Copying file://flowers_data/tfrecords-jpeg-331x331/val/00-331x331-232.tfrec [Content-Type=application/octet-stream]...\n",
            "Copying file://flowers_data/tfrecords-jpeg-192x192/val/11-192x192-232.tfrec [Content-Type=application/octet-stream]...\n",
            "Copying file://flowers_data/tfrecords-jpeg-331x331/val/07-331x331-232.tfrec [Content-Type=application/octet-stream]...\n",
            "Copying file://flowers_data/tfrecords-jpeg-512x512/test/02-512x512-462.tfrec [Content-Type=application/octet-stream]...\n",
            "Copying file://flowers_data/tfrecords-jpeg-331x331/val/03-331x331-232.tfrec [Content-Type=application/octet-stream]...\n",
            "Copying file://flowers_data/tfrecords-jpeg-331x331/train/07-331x331-798.tfrec [Content-Type=application/octet-stream]...\n",
            "Copying file://flowers_data/tfrecords-jpeg-331x331/train/06-331x331-798.tfrec [Content-Type=application/octet-stream]...\n",
            "Copying file://flowers_data/tfrecords-jpeg-331x331/val/04-331x331-232.tfrec [Content-Type=application/octet-stream]...\n",
            "Copying file://flowers_data/tfrecords-jpeg-331x331/val/01-331x331-232.tfrec [Content-Type=application/octet-stream]...\n",
            "Copying file://flowers_data/tfrecords-jpeg-331x331/test/04-331x331-462.tfrec [Content-Type=application/octet-stream]...\n",
            "Copying file://flowers_data/tfrecords-jpeg-192x192/val/09-192x192-232.tfrec [Content-Type=application/octet-stream]...\n",
            "Copying file://flowers_data/tfrecords-jpeg-331x331/test/08-331x331-462.tfrec [Content-Type=application/octet-stream]...\n",
            "Copying file://flowers_data/tfrecords-jpeg-192x192/val/13-192x192-232.tfrec [Content-Type=application/octet-stream]...\n",
            "Copying file://flowers_data/tfrecords-jpeg-331x331/test/11-331x331-462.tfrec [Content-Type=application/octet-stream]...\n",
            "Copying file://flowers_data/tfrecords-jpeg-192x192/val/08-192x192-232.tfrec [Content-Type=application/octet-stream]...\n",
            "Copying file://flowers_data/tfrecords-jpeg-331x331/test/10-331x331-462.tfrec [Content-Type=application/octet-stream]...\n",
            "Copying file://flowers_data/tfrecords-jpeg-331x331/test/05-331x331-462.tfrec [Content-Type=application/octet-stream]...\n",
            "Copying file://flowers_data/tfrecords-jpeg-192x192/test/00-192x192-462.tfrec [Content-Type=application/octet-stream]...\n",
            "Copying file://flowers_data/tfrecords-jpeg-192x192/test/04-192x192-462.tfrec [Content-Type=application/octet-stream]...\n",
            "Copying file://flowers_data/tfrecords-jpeg-192x192/train/07-192x192-798.tfrec [Content-Type=application/octet-stream]...\n",
            "Copying file://flowers_data/tfrecords-jpeg-192x192/test/05-192x192-462.tfrec [Content-Type=application/octet-stream]...\n",
            "Copying file://flowers_data/tfrecords-jpeg-331x331/test/03-331x331-462.tfrec [Content-Type=application/octet-stream]...\n",
            "Copying file://flowers_data/tfrecords-jpeg-192x192/val/00-192x192-232.tfrec [Content-Type=application/octet-stream]...\n",
            "Copying file://flowers_data/tfrecords-jpeg-192x192/val/04-192x192-232.tfrec [Content-Type=application/octet-stream]...\n",
            "Copying file://flowers_data/tfrecords-jpeg-331x331/test/15-331x331-452.tfrec [Content-Type=application/octet-stream]...\n",
            "Copying file://flowers_data/tfrecords-jpeg-192x192/val/06-192x192-232.tfrec [Content-Type=application/octet-stream]...\n",
            "Copying file://flowers_data/tfrecords-jpeg-331x331/test/14-331x331-462.tfrec [Content-Type=application/octet-stream]...\n",
            "Copying file://flowers_data/tfrecords-jpeg-224x224/val/13-224x224-232.tfrec [Content-Type=application/octet-stream]...\n",
            "Copying file://flowers_data/tfrecords-jpeg-224x224/val/10-224x224-232.tfrec [Content-Type=application/octet-stream]...\n",
            "Copying file://flowers_data/tfrecords-jpeg-331x331/val/06-331x331-232.tfrec [Content-Type=application/octet-stream]...\n",
            "Copying file://flowers_data/tfrecords-jpeg-331x331/train/13-331x331-798.tfrec [Content-Type=application/octet-stream]...\n",
            "Copying file://flowers_data/tfrecords-jpeg-331x331/train/02-331x331-798.tfrec [Content-Type=application/octet-stream]...\n",
            "Copying file://flowers_data/tfrecords-jpeg-224x224/val/11-224x224-232.tfrec [Content-Type=application/octet-stream]...\n",
            "Copying file://flowers_data/tfrecords-jpeg-331x331/train/15-331x331-783.tfrec [Content-Type=application/octet-stream]...\n",
            "Copying file://flowers_data/tfrecords-jpeg-331x331/test/02-331x331-462.tfrec [Content-Type=application/octet-stream]...\n",
            "Copying file://flowers_data/tfrecords-jpeg-331x331/test/01-331x331-462.tfrec [Content-Type=application/octet-stream]...\n",
            "Copying file://flowers_data/tfrecords-jpeg-192x192/train/04-192x192-798.tfrec [Content-Type=application/octet-stream]...\n",
            "Copying file://flowers_data/tfrecords-jpeg-192x192/test/13-192x192-462.tfrec [Content-Type=application/octet-stream]...\n",
            "Copying file://flowers_data/tfrecords-jpeg-192x192/train/12-192x192-798.tfrec [Content-Type=application/octet-stream]...\n",
            "Copying file://flowers_data/tfrecords-jpeg-192x192/train/14-192x192-798.tfrec [Content-Type=application/octet-stream]...\n",
            "Copying file://flowers_data/tfrecords-jpeg-192x192/test/10-192x192-462.tfrec [Content-Type=application/octet-stream]...\n",
            "Copying file://flowers_data/tfrecords-jpeg-192x192/train/02-192x192-798.tfrec [Content-Type=application/octet-stream]...\n",
            "Copying file://flowers_data/tfrecords-jpeg-192x192/train/03-192x192-798.tfrec [Content-Type=application/octet-stream]...\n",
            "Copying file://flowers_data/tfrecords-jpeg-192x192/val/14-192x192-232.tfrec [Content-Type=application/octet-stream]...\n",
            "Copying file://flowers_data/tfrecords-jpeg-224x224/val/07-224x224-232.tfrec [Content-Type=application/octet-stream]...\n",
            "Copying file://flowers_data/tfrecords-jpeg-192x192/test/14-192x192-462.tfrec [Content-Type=application/octet-stream]...\n",
            "Copying file://flowers_data/tfrecords-jpeg-192x192/val/10-192x192-232.tfrec [Content-Type=application/octet-stream]...\n",
            "Copying file://flowers_data/tfrecords-jpeg-192x192/test/12-192x192-462.tfrec [Content-Type=application/octet-stream]...\n",
            "Copying file://flowers_data/tfrecords-jpeg-224x224/val/05-224x224-232.tfrec [Content-Type=application/octet-stream]...\n",
            "Copying file://flowers_data/tfrecords-jpeg-224x224/val/02-224x224-232.tfrec [Content-Type=application/octet-stream]...\n",
            "Copying file://flowers_data/tfrecords-jpeg-224x224/val/14-224x224-232.tfrec [Content-Type=application/octet-stream]...\n",
            "Copying file://flowers_data/tfrecords-jpeg-224x224/val/04-224x224-232.tfrec [Content-Type=application/octet-stream]...\n",
            "Copying file://flowers_data/tfrecords-jpeg-224x224/val/01-224x224-232.tfrec [Content-Type=application/octet-stream]...\n",
            "Copying file://flowers_data/tfrecords-jpeg-192x192/val/01-192x192-232.tfrec [Content-Type=application/octet-stream]...\n",
            "Copying file://flowers_data/tfrecords-jpeg-331x331/val/10-331x331-232.tfrec [Content-Type=application/octet-stream]...\n",
            "Copying file://flowers_data/tfrecords-jpeg-192x192/test/06-192x192-462.tfrec [Content-Type=application/octet-stream]...\n",
            "Copying file://flowers_data/tfrecords-jpeg-192x192/val/07-192x192-232.tfrec [Content-Type=application/octet-stream]...\n",
            "Copying file://flowers_data/tfrecords-jpeg-192x192/train/10-192x192-798.tfrec [Content-Type=application/octet-stream]...\n",
            "Copying file://flowers_data/tfrecords-jpeg-331x331/val/05-331x331-232.tfrec [Content-Type=application/octet-stream]...\n",
            "Copying file://flowers_data/tfrecords-jpeg-331x331/train/01-331x331-798.tfrec [Content-Type=application/octet-stream]...\n",
            "Copying file://flowers_data/tfrecords-jpeg-331x331/test/12-331x331-462.tfrec [Content-Type=application/octet-stream]...\n",
            "Copying file://flowers_data/tfrecords-jpeg-192x192/train/06-192x192-798.tfrec [Content-Type=application/octet-stream]...\n",
            "Copying file://flowers_data/tfrecords-jpeg-192x192/val/05-192x192-232.tfrec [Content-Type=application/octet-stream]...\n",
            "Copying file://flowers_data/tfrecords-jpeg-192x192/train/09-192x192-798.tfrec [Content-Type=application/octet-stream]...\n",
            "Copying file://flowers_data/tfrecords-jpeg-192x192/test/07-192x192-462.tfrec [Content-Type=application/octet-stream]...\n",
            "Copying file://flowers_data/tfrecords-jpeg-192x192/train/11-192x192-798.tfrec [Content-Type=application/octet-stream]...\n",
            "Copying file://flowers_data/tfrecords-jpeg-192x192/train/15-192x192-783.tfrec [Content-Type=application/octet-stream]...\n",
            "Copying file://flowers_data/tfrecords-jpeg-192x192/test/11-192x192-462.tfrec [Content-Type=application/octet-stream]...\n",
            "Copying file://flowers_data/tfrecords-jpeg-192x192/train/01-192x192-798.tfrec [Content-Type=application/octet-stream]...\n",
            "Copying file://flowers_data/tfrecords-jpeg-192x192/test/03-192x192-462.tfrec [Content-Type=application/octet-stream]...\n",
            "Copying file://flowers_data/tfrecords-jpeg-224x224/val/12-224x224-232.tfrec [Content-Type=application/octet-stream]...\n",
            "Copying file://flowers_data/tfrecords-jpeg-224x224/val/06-224x224-232.tfrec [Content-Type=application/octet-stream]...\n",
            "Copying file://flowers_data/tfrecords-jpeg-192x192/test/09-192x192-462.tfrec [Content-Type=application/octet-stream]...\n",
            "Copying file://flowers_data/tfrecords-jpeg-224x224/val/00-224x224-232.tfrec [Content-Type=application/octet-stream]...\n",
            "Copying file://flowers_data/tfrecords-jpeg-224x224/val/09-224x224-232.tfrec [Content-Type=application/octet-stream]...\n",
            "Copying file://flowers_data/tfrecords-jpeg-192x192/val/02-192x192-232.tfrec [Content-Type=application/octet-stream]...\n",
            "Copying file://flowers_data/tfrecords-jpeg-331x331/train/10-331x331-798.tfrec [Content-Type=application/octet-stream]...\n",
            "Copying file://flowers_data/tfrecords-jpeg-192x192/test/01-192x192-462.tfrec [Content-Type=application/octet-stream]...\n",
            "Copying file://flowers_data/tfrecords-jpeg-192x192/test/08-192x192-462.tfrec [Content-Type=application/octet-stream]...\n",
            "Copying file://flowers_data/tfrecords-jpeg-331x331/test/13-331x331-462.tfrec [Content-Type=application/octet-stream]...\n",
            "Copying file://flowers_data/tfrecords-jpeg-192x192/test/02-192x192-462.tfrec [Content-Type=application/octet-stream]...\n",
            "Copying file://flowers_data/tfrecords-jpeg-224x224/val/08-224x224-232.tfrec [Content-Type=application/octet-stream]...\n",
            "Copying file://flowers_data/tfrecords-jpeg-224x224/train/05-224x224-798.tfrec [Content-Type=application/octet-stream]...\n",
            "Copying file://flowers_data/tfrecords-jpeg-224x224/train/11-224x224-798.tfrec [Content-Type=application/octet-stream]...\n",
            "Copying file://flowers_data/tfrecords-jpeg-224x224/train/07-224x224-798.tfrec [Content-Type=application/octet-stream]...\n",
            "Copying file://flowers_data/tfrecords-jpeg-224x224/train/00-224x224-798.tfrec [Content-Type=application/octet-stream]...\n",
            "Copying file://flowers_data/tfrecords-jpeg-224x224/train/03-224x224-798.tfrec [Content-Type=application/octet-stream]...\n",
            "Copying file://flowers_data/tfrecords-jpeg-224x224/train/06-224x224-798.tfrec [Content-Type=application/octet-stream]...\n",
            "Copying file://flowers_data/tfrecords-jpeg-224x224/train/02-224x224-798.tfrec [Content-Type=application/octet-stream]...\n",
            "Copying file://flowers_data/tfrecords-jpeg-224x224/train/04-224x224-798.tfrec [Content-Type=application/octet-stream]...\n",
            "Copying file://flowers_data/tfrecords-jpeg-224x224/train/13-224x224-798.tfrec [Content-Type=application/octet-stream]...\n",
            "Copying file://flowers_data/tfrecords-jpeg-224x224/train/15-224x224-783.tfrec [Content-Type=application/octet-stream]...\n",
            "Copying file://flowers_data/tfrecords-jpeg-224x224/train/10-224x224-798.tfrec [Content-Type=application/octet-stream]...\n",
            "Copying file://flowers_data/tfrecords-jpeg-224x224/train/01-224x224-798.tfrec [Content-Type=application/octet-stream]...\n",
            "Copying file://flowers_data/tfrecords-jpeg-224x224/train/09-224x224-798.tfrec [Content-Type=application/octet-stream]...\n",
            "Copying file://flowers_data/tfrecords-jpeg-224x224/train/12-224x224-798.tfrec [Content-Type=application/octet-stream]...\n",
            "Copying file://flowers_data/tfrecords-jpeg-224x224/train/14-224x224-798.tfrec [Content-Type=application/octet-stream]...\n",
            "Copying file://flowers_data/tfrecords-jpeg-224x224/train/08-224x224-798.tfrec [Content-Type=application/octet-stream]...\n",
            "Copying file://flowers_data/tfrecords-jpeg-224x224/test/07-224x224-462.tfrec [Content-Type=application/octet-stream]...\n",
            "Copying file://flowers_data/tfrecords-jpeg-224x224/test/10-224x224-462.tfrec [Content-Type=application/octet-stream]...\n",
            "Copying file://flowers_data/tfrecords-jpeg-224x224/test/03-224x224-462.tfrec [Content-Type=application/octet-stream]...\n",
            "Copying file://flowers_data/tfrecords-jpeg-224x224/test/15-224x224-452.tfrec [Content-Type=application/octet-stream]...\n",
            "Copying file://flowers_data/tfrecords-jpeg-224x224/test/04-224x224-462.tfrec [Content-Type=application/octet-stream]...\n",
            "Copying file://flowers_data/tfrecords-jpeg-224x224/test/09-224x224-462.tfrec [Content-Type=application/octet-stream]...\n",
            "Copying file://flowers_data/tfrecords-jpeg-224x224/test/13-224x224-462.tfrec [Content-Type=application/octet-stream]...\n",
            "Copying file://flowers_data/tfrecords-jpeg-224x224/test/02-224x224-462.tfrec [Content-Type=application/octet-stream]...\n",
            "Copying file://flowers_data/tfrecords-jpeg-224x224/test/01-224x224-462.tfrec [Content-Type=application/octet-stream]...\n",
            "Copying file://flowers_data/tfrecords-jpeg-224x224/test/12-224x224-462.tfrec [Content-Type=application/octet-stream]...\n",
            "Copying file://flowers_data/tfrecords-jpeg-224x224/test/14-224x224-462.tfrec [Content-Type=application/octet-stream]...\n",
            "Copying file://flowers_data/tfrecords-jpeg-224x224/test/11-224x224-462.tfrec [Content-Type=application/octet-stream]...\n",
            "Copying file://flowers_data/tfrecords-jpeg-224x224/test/08-224x224-462.tfrec [Content-Type=application/octet-stream]...\n",
            "Copying file://flowers_data/tfrecords-jpeg-224x224/test/06-224x224-462.tfrec [Content-Type=application/octet-stream]...\n",
            "Copying file://flowers_data/tfrecords-jpeg-224x224/test/00-224x224-462.tfrec [Content-Type=application/octet-stream]...\n",
            "Copying file://flowers_data/tfrecords-jpeg-224x224/test/05-224x224-462.tfrec [Content-Type=application/octet-stream]...\n",
            "/ [193/193 files][  4.8 GiB/  4.8 GiB] 100% Done 106.7 MiB/s ETA 00:00:00       \n",
            "Operation completed over 193 objects/4.8 GiB.                                    \n"
          ]
        }
      ]
    },
    {
      "source": [
        "# IMPORTANT: SOME KAGGLE DATA SOURCES ARE PRIVATE\n",
        "# RUN THIS CELL IN ORDER TO IMPORT YOUR KAGGLE DATA SOURCES.\n",
        "import kagglehub\n",
        "kagglehub.login()\n"
      ],
      "metadata": {
        "colab": {
          "base_uri": "https://localhost:8080/",
          "height": 85,
          "referenced_widgets": [
            "dd499cc0c6274a8d8296850d97cc5b8d",
            "82e2d1499fbf4bd69dcc854a79f5bad1",
            "f6769d6692d34833ad424639f0369279",
            "1770b83f74284f4cbc11b55fb26173f7",
            "e5a0e7f5643a4c57b0659cdc639abab9",
            "6920eaca7350418fbb7f7cc0037d7e43",
            "ecc7be86489240aaa7995da4348ed7e0",
            "546adc76f23841e594357b5b7ad57105",
            "cbb61c1b5b8b442bbda95f09910a53b1",
            "fe2aa29db751431d978a192aeb35782e",
            "f1c1556324974e46a9f0f59c13ecaa7a",
            "701bfa8c56bf4fd0972b56d0e1851b50",
            "d757c509aa4f424c96144a372d43f821",
            "6eb4fc21d1214f5ea3d2c86ddfc1879b",
            "5b4579f9950649c6b1b70e04f3f2d330",
            "2e0b365d629f4395a4406fa91e1ea91c",
            "10b41340c8d542b7a394457551ef9fc2",
            "efa1b134dbb24200864c45d6fbd28bfd",
            "4d2d519ed7794c3db81bb75a2c0e621d",
            "7127220c74a2443eb04227883d6db6d6",
            "40c0776cdf754294984f5142dee8275e",
            "a7457f552d1d45d086cee6838e52ff30",
            "5326ae99c72741c196cccfdb241cce7d"
          ]
        },
        "id": "2mSndUtljCwo",
        "outputId": "dda080aa-4104-45a7-8fad-43b1720d8d8c"
      },
      "cell_type": "code",
      "outputs": [
        {
          "output_type": "display_data",
          "data": {
            "text/plain": [
              "VBox(children=(HTML(value='<center> <img\\nsrc=https://www.kaggle.com/static/images/site-logo.png\\nalt=\\'Kaggle…"
            ],
            "application/vnd.jupyter.widget-view+json": {
              "version_major": 2,
              "version_minor": 0,
              "model_id": "dd499cc0c6274a8d8296850d97cc5b8d"
            }
          },
          "metadata": {}
        },
        {
          "output_type": "stream",
          "name": "stdout",
          "text": [
            "Kaggle credentials set.\n",
            "Kaggle credentials successfully validated.\n"
          ]
        }
      ],
      "execution_count": null
    },
    {
      "cell_type": "markdown",
      "source": [
        "# A Simple TF 2.1 notebook\n",
        "\n",
        "This is based entirely off of Martin Gorner's excellent starter notebook, and is intended solely as a simple, shorter introduction to the operations being performed there."
      ],
      "metadata": {
        "id": "LYD49qaIjCwr"
      }
    },
    {
      "cell_type": "code",
      "source": [
        "!pip install -U tensorflow"
      ],
      "metadata": {
        "collapsed": true,
        "colab": {
          "base_uri": "https://localhost:8080/"
        },
        "id": "39CydOZokbLs",
        "outputId": "850757b6-925e-42cb-d0a9-8f3e1d5cc320"
      },
      "execution_count": 1,
      "outputs": [
        {
          "output_type": "stream",
          "name": "stdout",
          "text": [
            "Requirement already satisfied: tensorflow in /usr/local/lib/python3.11/dist-packages (2.19.0)\n",
            "Requirement already satisfied: absl-py>=1.0.0 in /usr/local/lib/python3.11/dist-packages (from tensorflow) (1.4.0)\n",
            "Requirement already satisfied: astunparse>=1.6.0 in /usr/local/lib/python3.11/dist-packages (from tensorflow) (1.6.3)\n",
            "Requirement already satisfied: flatbuffers>=24.3.25 in /usr/local/lib/python3.11/dist-packages (from tensorflow) (25.2.10)\n",
            "Requirement already satisfied: gast!=0.5.0,!=0.5.1,!=0.5.2,>=0.2.1 in /usr/local/lib/python3.11/dist-packages (from tensorflow) (0.6.0)\n",
            "Requirement already satisfied: google-pasta>=0.1.1 in /usr/local/lib/python3.11/dist-packages (from tensorflow) (0.2.0)\n",
            "Requirement already satisfied: libclang>=13.0.0 in /usr/local/lib/python3.11/dist-packages (from tensorflow) (18.1.1)\n",
            "Requirement already satisfied: opt-einsum>=2.3.2 in /usr/local/lib/python3.11/dist-packages (from tensorflow) (3.4.0)\n",
            "Requirement already satisfied: packaging in /usr/local/lib/python3.11/dist-packages (from tensorflow) (24.2)\n",
            "Requirement already satisfied: protobuf!=4.21.0,!=4.21.1,!=4.21.2,!=4.21.3,!=4.21.4,!=4.21.5,<6.0.0dev,>=3.20.3 in /usr/local/lib/python3.11/dist-packages (from tensorflow) (5.29.4)\n",
            "Requirement already satisfied: requests<3,>=2.21.0 in /usr/local/lib/python3.11/dist-packages (from tensorflow) (2.32.3)\n",
            "Requirement already satisfied: setuptools in /usr/local/lib/python3.11/dist-packages (from tensorflow) (75.2.0)\n",
            "Requirement already satisfied: six>=1.12.0 in /usr/local/lib/python3.11/dist-packages (from tensorflow) (1.17.0)\n",
            "Requirement already satisfied: termcolor>=1.1.0 in /usr/local/lib/python3.11/dist-packages (from tensorflow) (3.0.1)\n",
            "Requirement already satisfied: typing-extensions>=3.6.6 in /usr/local/lib/python3.11/dist-packages (from tensorflow) (4.13.2)\n",
            "Requirement already satisfied: wrapt>=1.11.0 in /usr/local/lib/python3.11/dist-packages (from tensorflow) (1.17.2)\n",
            "Requirement already satisfied: grpcio<2.0,>=1.24.3 in /usr/local/lib/python3.11/dist-packages (from tensorflow) (1.71.0)\n",
            "Requirement already satisfied: tensorboard~=2.19.0 in /usr/local/lib/python3.11/dist-packages (from tensorflow) (2.19.0)\n",
            "Requirement already satisfied: keras>=3.5.0 in /usr/local/lib/python3.11/dist-packages (from tensorflow) (3.8.0)\n",
            "Requirement already satisfied: numpy<2.2.0,>=1.26.0 in /usr/local/lib/python3.11/dist-packages (from tensorflow) (2.0.2)\n",
            "Requirement already satisfied: h5py>=3.11.0 in /usr/local/lib/python3.11/dist-packages (from tensorflow) (3.13.0)\n",
            "Requirement already satisfied: ml-dtypes<1.0.0,>=0.5.1 in /usr/local/lib/python3.11/dist-packages (from tensorflow) (0.5.1)\n",
            "Requirement already satisfied: tensorflow-io-gcs-filesystem>=0.23.1 in /usr/local/lib/python3.11/dist-packages (from tensorflow) (0.37.1)\n",
            "Requirement already satisfied: wheel<1.0,>=0.23.0 in /usr/local/lib/python3.11/dist-packages (from astunparse>=1.6.0->tensorflow) (0.45.1)\n",
            "Requirement already satisfied: rich in /usr/local/lib/python3.11/dist-packages (from keras>=3.5.0->tensorflow) (14.0.0)\n",
            "Requirement already satisfied: namex in /usr/local/lib/python3.11/dist-packages (from keras>=3.5.0->tensorflow) (0.0.8)\n",
            "Requirement already satisfied: optree in /usr/local/lib/python3.11/dist-packages (from keras>=3.5.0->tensorflow) (0.15.0)\n",
            "Requirement already satisfied: charset-normalizer<4,>=2 in /usr/local/lib/python3.11/dist-packages (from requests<3,>=2.21.0->tensorflow) (3.4.1)\n",
            "Requirement already satisfied: idna<4,>=2.5 in /usr/local/lib/python3.11/dist-packages (from requests<3,>=2.21.0->tensorflow) (3.10)\n",
            "Requirement already satisfied: urllib3<3,>=1.21.1 in /usr/local/lib/python3.11/dist-packages (from requests<3,>=2.21.0->tensorflow) (2.3.0)\n",
            "Requirement already satisfied: certifi>=2017.4.17 in /usr/local/lib/python3.11/dist-packages (from requests<3,>=2.21.0->tensorflow) (2025.1.31)\n",
            "Requirement already satisfied: markdown>=2.6.8 in /usr/lib/python3/dist-packages (from tensorboard~=2.19.0->tensorflow) (3.3.6)\n",
            "Requirement already satisfied: tensorboard-data-server<0.8.0,>=0.7.0 in /usr/local/lib/python3.11/dist-packages (from tensorboard~=2.19.0->tensorflow) (0.7.2)\n",
            "Requirement already satisfied: werkzeug>=1.0.1 in /usr/local/lib/python3.11/dist-packages (from tensorboard~=2.19.0->tensorflow) (3.1.3)\n",
            "Requirement already satisfied: MarkupSafe>=2.1.1 in /usr/local/lib/python3.11/dist-packages (from werkzeug>=1.0.1->tensorboard~=2.19.0->tensorflow) (3.0.2)\n",
            "Requirement already satisfied: markdown-it-py>=2.2.0 in /usr/local/lib/python3.11/dist-packages (from rich->keras>=3.5.0->tensorflow) (3.0.0)\n",
            "Requirement already satisfied: pygments<3.0.0,>=2.13.0 in /usr/local/lib/python3.11/dist-packages (from rich->keras>=3.5.0->tensorflow) (2.19.1)\n",
            "Requirement already satisfied: mdurl~=0.1 in /usr/local/lib/python3.11/dist-packages (from markdown-it-py>=2.2.0->rich->keras>=3.5.0->tensorflow) (0.1.2)\n"
          ]
        }
      ]
    },
    {
      "cell_type": "code",
      "source": [
        "import tensorflow as tf\n",
        "#from kaggle_datasets import KaggleDatasets\n",
        "import numpy as np\n",
        "\n",
        "print(\"Tensorflow version \" + tf.__version__)"
      ],
      "metadata": {
        "_uuid": "8f2839f25d086af736a60e9eeb907d3b93b6e0e5",
        "_cell_guid": "b1076dfc-b9ad-4769-8c92-a6c4dae69d19",
        "trusted": true,
        "execution": {
          "iopub.status.busy": "2025-04-13T17:09:01.551663Z",
          "iopub.execute_input": "2025-04-13T17:09:01.552133Z",
          "iopub.status.idle": "2025-04-13T17:09:08.922901Z",
          "shell.execute_reply.started": "2025-04-13T17:09:01.552034Z",
          "shell.execute_reply": "2025-04-13T17:09:08.921366Z"
        },
        "colab": {
          "base_uri": "https://localhost:8080/"
        },
        "id": "geZPq6PujCwt",
        "outputId": "73fb74ad-c2f6-40c7-ddf3-3b0a6f71c840"
      },
      "outputs": [
        {
          "output_type": "stream",
          "name": "stdout",
          "text": [
            "Tensorflow version 2.19.0\n"
          ]
        }
      ],
      "execution_count": 2
    },
    {
      "cell_type": "markdown",
      "source": [
        "# Detect my accelerator"
      ],
      "metadata": {
        "id": "y_DDj8g2jCwu"
      }
    },
    {
      "cell_type": "code",
      "source": [
        "import os\n",
        "\n",
        "# Check if the environment variable exists before accessing it\n",
        "if 'COLAB_TPU_ADDR' in os.environ:\n",
        "    tpu_address = os.environ['COLAB_TPU_ADDR']\n",
        "    print(f\"TPU address: {tpu_address}\")  # should return a TPU address like 10.240.x.x:8470\n",
        "else:\n",
        "    print(\"TPU address not found. Check your Colab environment.\")"
      ],
      "metadata": {
        "id": "gcZmft77ujdR",
        "outputId": "232d66e1-0e28-4d6f-c08a-4f72e9fa5aff",
        "colab": {
          "base_uri": "https://localhost:8080/"
        }
      },
      "execution_count": 4,
      "outputs": [
        {
          "output_type": "stream",
          "name": "stdout",
          "text": [
            "TPU address not found. Check your Colab environment.\n"
          ]
        }
      ]
    },
    {
      "cell_type": "code",
      "source": [
        "# Detect hardware, return appropriate distribution strategy\n",
        "try:\n",
        "    tpu = tf.distribute.cluster_resolver.TPUClusterResolver()  # TPU detection. No parameters necessary if TPU_NAME environment variable is set. On Kaggle this is always the case.\n",
        "    print('Running on TPU ', tpu.master())\n",
        "except ValueError:\n",
        "    tpu = None\n",
        "\n",
        "if tpu:\n",
        "    tf.config.experimental_connect_to_cluster(tpu)\n",
        "    tf.tpu.experimental.initialize_tpu_system(tpu)\n",
        "    strategy = tf.distribute.experimental.TPUStrategy(tpu)\n",
        "else:\n",
        "    strategy = tf.distribute.get_strategy() # default distribution strategy in Tensorflow. Works on CPU and single GPU.\n",
        "\n",
        "print(\"REPLICAS: \", strategy.num_replicas_in_sync)"
      ],
      "metadata": {
        "trusted": true,
        "colab": {
          "base_uri": "https://localhost:8080/"
        },
        "id": "T44ljRZ5jCwu",
        "outputId": "66d21659-658f-412c-c5db-3bf024c4f174"
      },
      "outputs": [
        {
          "output_type": "stream",
          "name": "stdout",
          "text": [
            "REPLICAS:  1\n"
          ]
        }
      ],
      "execution_count": 24
    },
    {
      "cell_type": "markdown",
      "source": [
        "# Get my data path"
      ],
      "metadata": {
        "id": "btIDe-CwjCwv"
      }
    },
    {
      "cell_type": "code",
      "source": [
        "#GCS_DS_PATH = KaggleDatasets().get_gcs_path() # you can list the bucket with \"!gsutil ls $GCS_DS_PATH\"\n",
        "GCS_DS_PATH = 'gs://team-brisket-flowers-tpu/flowers_data'"
      ],
      "metadata": {
        "trusted": true,
        "id": "hJ4ma2A0jCwv"
      },
      "outputs": [],
      "execution_count": 16
    },
    {
      "cell_type": "code",
      "source": [
        "!gsutil ls $GCS_DS_PATH"
      ],
      "metadata": {
        "colab": {
          "base_uri": "https://localhost:8080/"
        },
        "id": "hnmXhLtw60w6",
        "outputId": "464f8a65-2bf5-47fd-a2d9-03c6da1920c3"
      },
      "execution_count": 17,
      "outputs": [
        {
          "output_type": "stream",
          "name": "stdout",
          "text": [
            "gs://team-brisket-flowers-tpu/flowers_data/sample_submission.csv\n",
            "gs://team-brisket-flowers-tpu/flowers_data/tfrecords-jpeg-192x192/\n",
            "gs://team-brisket-flowers-tpu/flowers_data/tfrecords-jpeg-224x224/\n",
            "gs://team-brisket-flowers-tpu/flowers_data/tfrecords-jpeg-331x331/\n",
            "gs://team-brisket-flowers-tpu/flowers_data/tfrecords-jpeg-512x512/\n"
          ]
        }
      ]
    },
    {
      "cell_type": "markdown",
      "source": [
        "# Set some parameters"
      ],
      "metadata": {
        "id": "8AVNx9frjCww"
      }
    },
    {
      "cell_type": "code",
      "source": [
        "IMAGE_SIZE = [192, 192] # at this size, a GPU will run out of memory. Use the TPU\n",
        "EPOCHS = 5\n",
        "BATCH_SIZE = 16 * strategy.num_replicas_in_sync\n",
        "\n",
        "NUM_TRAINING_IMAGES = 12753\n",
        "NUM_TEST_IMAGES = 7382\n",
        "STEPS_PER_EPOCH = NUM_TRAINING_IMAGES // BATCH_SIZE\n",
        "AUTO = tf.data.experimental.AUTOTUNE"
      ],
      "metadata": {
        "trusted": true,
        "id": "TYLnxAaSjCww"
      },
      "outputs": [],
      "execution_count": 18
    },
    {
      "cell_type": "markdown",
      "source": [
        "# Load my data\n",
        "\n",
        "This data is loaded from Kaggle and automatically sharded to maximize parallelization."
      ],
      "metadata": {
        "id": "dQu1_zASjCwx"
      }
    },
    {
      "cell_type": "code",
      "source": [
        "def decode_image(image_data):\n",
        "    image = tf.image.decode_jpeg(image_data, channels=3)\n",
        "    image = tf.cast(image, tf.float32) / 255.0  # convert image to floats in [0, 1] range\n",
        "    image = tf.reshape(image, [*IMAGE_SIZE, 3]) # explicit size needed for TPU\n",
        "    return image\n",
        "\n",
        "def read_labeled_tfrecord(example):\n",
        "    LABELED_TFREC_FORMAT = {\n",
        "        \"image\": tf.io.FixedLenFeature([], tf.string), # tf.string means bytestring\n",
        "        \"class\": tf.io.FixedLenFeature([], tf.int64),  # shape [] means single element\n",
        "    }\n",
        "    example = tf.io.parse_single_example(example, LABELED_TFREC_FORMAT)\n",
        "    image = decode_image(example['image'])\n",
        "    label = tf.cast(example['class'], tf.int32)\n",
        "    return image, label # returns a dataset of (image, label) pairs\n",
        "\n",
        "def read_unlabeled_tfrecord(example):\n",
        "    UNLABELED_TFREC_FORMAT = {\n",
        "        \"image\": tf.io.FixedLenFeature([], tf.string), # tf.string means bytestring\n",
        "        \"id\": tf.io.FixedLenFeature([], tf.string),  # shape [] means single element\n",
        "        # class is missing, this competitions's challenge is to predict flower classes for the test dataset\n",
        "    }\n",
        "    example = tf.io.parse_single_example(example, UNLABELED_TFREC_FORMAT)\n",
        "    image = decode_image(example['image'])\n",
        "    idnum = example['id']\n",
        "    return image, idnum # returns a dataset of image(s)\n",
        "\n",
        "def load_dataset(filenames, labeled=True, ordered=False):\n",
        "    # Read from TFRecords. For optimal performance, reading from multiple files at once and\n",
        "    # disregarding data order. Order does not matter since we will be shuffling the data anyway.\n",
        "\n",
        "    ignore_order = tf.data.Options()\n",
        "    if not ordered:\n",
        "        ignore_order.experimental_deterministic = False # disable order, increase speed\n",
        "\n",
        "    dataset = tf.data.TFRecordDataset(filenames, num_parallel_reads=AUTO) # automatically interleaves reads from multiple files\n",
        "    dataset = dataset.with_options(ignore_order) # uses data as soon as it streams in, rather than in its original order\n",
        "    dataset = dataset.map(read_labeled_tfrecord if labeled else read_unlabeled_tfrecord, num_parallel_calls=AUTO)\n",
        "    # returns a dataset of (image, label) pairs if labeled=True or (image, id) pairs if labeled=False\n",
        "    return dataset\n",
        "\n",
        "def get_training_dataset():\n",
        "    dataset = load_dataset(tf.io.gfile.glob(GCS_DS_PATH + '/tfrecords-jpeg-192x192/train/*.tfrec'), labeled=True)\n",
        "    dataset = dataset.repeat() # the training dataset must repeat for several epochs\n",
        "    dataset = dataset.shuffle(2048)\n",
        "    dataset = dataset.batch(BATCH_SIZE)\n",
        "    dataset = dataset.prefetch(AUTO) # prefetch next batch while training (autotune prefetch buffer size)\n",
        "    return dataset\n",
        "\n",
        "def get_validation_dataset():\n",
        "    dataset = load_dataset(tf.io.gfile.glob(GCS_DS_PATH + '/tfrecords-jpeg-192x192/val/*.tfrec'), labeled=True, ordered=False)\n",
        "    dataset = dataset.batch(BATCH_SIZE)\n",
        "    dataset = dataset.cache()\n",
        "    dataset = dataset.prefetch(AUTO) # prefetch next batch while training (autotune prefetch buffer size)\n",
        "    return dataset\n",
        "\n",
        "def get_test_dataset(ordered=False):\n",
        "    dataset = load_dataset(tf.io.gfile.glob(GCS_DS_PATH + '/tfrecords-jpeg-192x192/test/*.tfrec'), labeled=False, ordered=ordered)\n",
        "    dataset = dataset.batch(BATCH_SIZE)\n",
        "    dataset = dataset.prefetch(AUTO) # prefetch next batch while training (autotune prefetch buffer size)\n",
        "    return dataset\n",
        "\n",
        "training_dataset = get_training_dataset()\n",
        "validation_dataset = get_validation_dataset()"
      ],
      "metadata": {
        "trusted": true,
        "id": "k7n-EZTejCwx"
      },
      "outputs": [],
      "execution_count": 19
    },
    {
      "cell_type": "markdown",
      "source": [
        "# Build a model on TPU (or GPU, or CPU...) with Tensorflow 2.1!"
      ],
      "metadata": {
        "id": "kSD56AdbjCwy"
      }
    },
    {
      "cell_type": "code",
      "source": [
        "try:\n",
        "    resolver = tf.distribute.cluster_resolver.TPUClusterResolver()  # detect\n",
        "    tf.config.experimental_connect_to_cluster(resolver)\n",
        "    tf.tpu.experimental.initialize_tpu_system(resolver)\n",
        "    strategy = tf.distribute.TPUStrategy(resolver)\n",
        "    print(\"✅ TPU connected.\")\n",
        "except:\n",
        "    strategy = tf.distribute.get_strategy()\n",
        "    print(\"⚠️ Using default strategy (CPU/GPU).\")\n"
      ],
      "metadata": {
        "id": "e8ZwHTUTtY2x",
        "outputId": "7b636eb3-fade-45e9-e9bf-f7c2cccdc477",
        "colab": {
          "base_uri": "https://localhost:8080/"
        }
      },
      "execution_count": 21,
      "outputs": [
        {
          "output_type": "stream",
          "name": "stdout",
          "text": [
            "⚠️ Using default strategy (CPU/GPU).\n"
          ]
        }
      ]
    },
    {
      "cell_type": "code",
      "source": [
        "with strategy.scope():\n",
        "    pretrained_model = tf.keras.applications.VGG16(weights='imagenet', include_top=False ,input_shape=[*IMAGE_SIZE, 3])\n",
        "    pretrained_model.trainable = False # tramsfer learning\n",
        "\n",
        "    model = tf.keras.Sequential([\n",
        "        pretrained_model,\n",
        "        tf.keras.layers.GlobalAveragePooling2D(),\n",
        "        tf.keras.layers.Dense(104, activation='softmax')\n",
        "    ])\n",
        "\n",
        "model.compile(\n",
        "    optimizer='adam',\n",
        "    loss = 'sparse_categorical_crossentropy',\n",
        "    metrics=['sparse_categorical_accuracy']\n",
        ")\n",
        "\n",
        "historical = model.fit(training_dataset,\n",
        "          steps_per_epoch=STEPS_PER_EPOCH,\n",
        "          epochs=EPOCHS,\n",
        "          validation_data=validation_dataset)"
      ],
      "metadata": {
        "trusted": true,
        "id": "Oa-TZ9zDjCwy",
        "outputId": "5dba591d-4143-4698-c4fc-8c3043257635",
        "colab": {
          "base_uri": "https://localhost:8080/",
          "height": 474
        }
      },
      "outputs": [
        {
          "output_type": "stream",
          "name": "stdout",
          "text": [
            "Downloading data from https://storage.googleapis.com/tensorflow/keras-applications/vgg16/vgg16_weights_tf_dim_ordering_tf_kernels_notop.h5\n",
            "\u001b[1m58889256/58889256\u001b[0m \u001b[32m━━━━━━━━━━━━━━━━━━━━\u001b[0m\u001b[37m\u001b[0m \u001b[1m0s\u001b[0m 0us/step\n",
            "Epoch 1/5\n",
            "\u001b[1m 15/797\u001b[0m \u001b[37m━━━━━━━━━━━━━━━━━━━━\u001b[0m \u001b[1m43:40\u001b[0m 3s/step - loss: 4.6426 - sparse_categorical_accuracy: 0.0228"
          ]
        },
        {
          "output_type": "error",
          "ename": "KeyboardInterrupt",
          "evalue": "",
          "traceback": [
            "\u001b[0;31m---------------------------------------------------------------------------\u001b[0m",
            "\u001b[0;31mKeyboardInterrupt\u001b[0m                         Traceback (most recent call last)",
            "\u001b[0;32m<ipython-input-20-ef11fd78312f>\u001b[0m in \u001b[0;36m<cell line: 0>\u001b[0;34m()\u001b[0m\n\u001b[1;32m     15\u001b[0m )\n\u001b[1;32m     16\u001b[0m \u001b[0;34m\u001b[0m\u001b[0m\n\u001b[0;32m---> 17\u001b[0;31m historical = model.fit(training_dataset,\n\u001b[0m\u001b[1;32m     18\u001b[0m           \u001b[0msteps_per_epoch\u001b[0m\u001b[0;34m=\u001b[0m\u001b[0mSTEPS_PER_EPOCH\u001b[0m\u001b[0;34m,\u001b[0m\u001b[0;34m\u001b[0m\u001b[0;34m\u001b[0m\u001b[0m\n\u001b[1;32m     19\u001b[0m           \u001b[0mepochs\u001b[0m\u001b[0;34m=\u001b[0m\u001b[0mEPOCHS\u001b[0m\u001b[0;34m,\u001b[0m\u001b[0;34m\u001b[0m\u001b[0;34m\u001b[0m\u001b[0m\n",
            "\u001b[0;32m/usr/local/lib/python3.11/dist-packages/keras/src/utils/traceback_utils.py\u001b[0m in \u001b[0;36merror_handler\u001b[0;34m(*args, **kwargs)\u001b[0m\n\u001b[1;32m    115\u001b[0m         \u001b[0mfiltered_tb\u001b[0m \u001b[0;34m=\u001b[0m \u001b[0;32mNone\u001b[0m\u001b[0;34m\u001b[0m\u001b[0;34m\u001b[0m\u001b[0m\n\u001b[1;32m    116\u001b[0m         \u001b[0;32mtry\u001b[0m\u001b[0;34m:\u001b[0m\u001b[0;34m\u001b[0m\u001b[0;34m\u001b[0m\u001b[0m\n\u001b[0;32m--> 117\u001b[0;31m             \u001b[0;32mreturn\u001b[0m \u001b[0mfn\u001b[0m\u001b[0;34m(\u001b[0m\u001b[0;34m*\u001b[0m\u001b[0margs\u001b[0m\u001b[0;34m,\u001b[0m \u001b[0;34m**\u001b[0m\u001b[0mkwargs\u001b[0m\u001b[0;34m)\u001b[0m\u001b[0;34m\u001b[0m\u001b[0;34m\u001b[0m\u001b[0m\n\u001b[0m\u001b[1;32m    118\u001b[0m         \u001b[0;32mexcept\u001b[0m \u001b[0mException\u001b[0m \u001b[0;32mas\u001b[0m \u001b[0me\u001b[0m\u001b[0;34m:\u001b[0m\u001b[0;34m\u001b[0m\u001b[0;34m\u001b[0m\u001b[0m\n\u001b[1;32m    119\u001b[0m             \u001b[0mfiltered_tb\u001b[0m \u001b[0;34m=\u001b[0m \u001b[0m_process_traceback_frames\u001b[0m\u001b[0;34m(\u001b[0m\u001b[0me\u001b[0m\u001b[0;34m.\u001b[0m\u001b[0m__traceback__\u001b[0m\u001b[0;34m)\u001b[0m\u001b[0;34m\u001b[0m\u001b[0;34m\u001b[0m\u001b[0m\n",
            "\u001b[0;32m/usr/local/lib/python3.11/dist-packages/keras/src/backend/tensorflow/trainer.py\u001b[0m in \u001b[0;36mfit\u001b[0;34m(self, x, y, batch_size, epochs, verbose, callbacks, validation_split, validation_data, shuffle, class_weight, sample_weight, initial_epoch, steps_per_epoch, validation_steps, validation_batch_size, validation_freq)\u001b[0m\n\u001b[1;32m    369\u001b[0m                 \u001b[0;32mfor\u001b[0m \u001b[0mstep\u001b[0m\u001b[0;34m,\u001b[0m \u001b[0miterator\u001b[0m \u001b[0;32min\u001b[0m \u001b[0mepoch_iterator\u001b[0m\u001b[0;34m:\u001b[0m\u001b[0;34m\u001b[0m\u001b[0;34m\u001b[0m\u001b[0m\n\u001b[1;32m    370\u001b[0m                     \u001b[0mcallbacks\u001b[0m\u001b[0;34m.\u001b[0m\u001b[0mon_train_batch_begin\u001b[0m\u001b[0;34m(\u001b[0m\u001b[0mstep\u001b[0m\u001b[0;34m)\u001b[0m\u001b[0;34m\u001b[0m\u001b[0;34m\u001b[0m\u001b[0m\n\u001b[0;32m--> 371\u001b[0;31m                     \u001b[0mlogs\u001b[0m \u001b[0;34m=\u001b[0m \u001b[0mself\u001b[0m\u001b[0;34m.\u001b[0m\u001b[0mtrain_function\u001b[0m\u001b[0;34m(\u001b[0m\u001b[0miterator\u001b[0m\u001b[0;34m)\u001b[0m\u001b[0;34m\u001b[0m\u001b[0;34m\u001b[0m\u001b[0m\n\u001b[0m\u001b[1;32m    372\u001b[0m                     \u001b[0mcallbacks\u001b[0m\u001b[0;34m.\u001b[0m\u001b[0mon_train_batch_end\u001b[0m\u001b[0;34m(\u001b[0m\u001b[0mstep\u001b[0m\u001b[0;34m,\u001b[0m \u001b[0mlogs\u001b[0m\u001b[0;34m)\u001b[0m\u001b[0;34m\u001b[0m\u001b[0;34m\u001b[0m\u001b[0m\n\u001b[1;32m    373\u001b[0m                     \u001b[0;32mif\u001b[0m \u001b[0mself\u001b[0m\u001b[0;34m.\u001b[0m\u001b[0mstop_training\u001b[0m\u001b[0;34m:\u001b[0m\u001b[0;34m\u001b[0m\u001b[0;34m\u001b[0m\u001b[0m\n",
            "\u001b[0;32m/usr/local/lib/python3.11/dist-packages/keras/src/backend/tensorflow/trainer.py\u001b[0m in \u001b[0;36mfunction\u001b[0;34m(iterator)\u001b[0m\n\u001b[1;32m    217\u001b[0m                 \u001b[0miterator\u001b[0m\u001b[0;34m,\u001b[0m \u001b[0;34m(\u001b[0m\u001b[0mtf\u001b[0m\u001b[0;34m.\u001b[0m\u001b[0mdata\u001b[0m\u001b[0;34m.\u001b[0m\u001b[0mIterator\u001b[0m\u001b[0;34m,\u001b[0m \u001b[0mtf\u001b[0m\u001b[0;34m.\u001b[0m\u001b[0mdistribute\u001b[0m\u001b[0;34m.\u001b[0m\u001b[0mDistributedIterator\u001b[0m\u001b[0;34m)\u001b[0m\u001b[0;34m\u001b[0m\u001b[0;34m\u001b[0m\u001b[0m\n\u001b[1;32m    218\u001b[0m             ):\n\u001b[0;32m--> 219\u001b[0;31m                 \u001b[0mopt_outputs\u001b[0m \u001b[0;34m=\u001b[0m \u001b[0mmulti_step_on_iterator\u001b[0m\u001b[0;34m(\u001b[0m\u001b[0miterator\u001b[0m\u001b[0;34m)\u001b[0m\u001b[0;34m\u001b[0m\u001b[0;34m\u001b[0m\u001b[0m\n\u001b[0m\u001b[1;32m    220\u001b[0m                 \u001b[0;32mif\u001b[0m \u001b[0;32mnot\u001b[0m \u001b[0mopt_outputs\u001b[0m\u001b[0;34m.\u001b[0m\u001b[0mhas_value\u001b[0m\u001b[0;34m(\u001b[0m\u001b[0;34m)\u001b[0m\u001b[0;34m:\u001b[0m\u001b[0;34m\u001b[0m\u001b[0;34m\u001b[0m\u001b[0m\n\u001b[1;32m    221\u001b[0m                     \u001b[0;32mraise\u001b[0m \u001b[0mStopIteration\u001b[0m\u001b[0;34m\u001b[0m\u001b[0;34m\u001b[0m\u001b[0m\n",
            "\u001b[0;32m/usr/local/lib/python3.11/dist-packages/tensorflow/python/util/traceback_utils.py\u001b[0m in \u001b[0;36merror_handler\u001b[0;34m(*args, **kwargs)\u001b[0m\n\u001b[1;32m    148\u001b[0m     \u001b[0mfiltered_tb\u001b[0m \u001b[0;34m=\u001b[0m \u001b[0;32mNone\u001b[0m\u001b[0;34m\u001b[0m\u001b[0;34m\u001b[0m\u001b[0m\n\u001b[1;32m    149\u001b[0m     \u001b[0;32mtry\u001b[0m\u001b[0;34m:\u001b[0m\u001b[0;34m\u001b[0m\u001b[0;34m\u001b[0m\u001b[0m\n\u001b[0;32m--> 150\u001b[0;31m       \u001b[0;32mreturn\u001b[0m \u001b[0mfn\u001b[0m\u001b[0;34m(\u001b[0m\u001b[0;34m*\u001b[0m\u001b[0margs\u001b[0m\u001b[0;34m,\u001b[0m \u001b[0;34m**\u001b[0m\u001b[0mkwargs\u001b[0m\u001b[0;34m)\u001b[0m\u001b[0;34m\u001b[0m\u001b[0;34m\u001b[0m\u001b[0m\n\u001b[0m\u001b[1;32m    151\u001b[0m     \u001b[0;32mexcept\u001b[0m \u001b[0mException\u001b[0m \u001b[0;32mas\u001b[0m \u001b[0me\u001b[0m\u001b[0;34m:\u001b[0m\u001b[0;34m\u001b[0m\u001b[0;34m\u001b[0m\u001b[0m\n\u001b[1;32m    152\u001b[0m       \u001b[0mfiltered_tb\u001b[0m \u001b[0;34m=\u001b[0m \u001b[0m_process_traceback_frames\u001b[0m\u001b[0;34m(\u001b[0m\u001b[0me\u001b[0m\u001b[0;34m.\u001b[0m\u001b[0m__traceback__\u001b[0m\u001b[0;34m)\u001b[0m\u001b[0;34m\u001b[0m\u001b[0;34m\u001b[0m\u001b[0m\n",
            "\u001b[0;32m/usr/local/lib/python3.11/dist-packages/tensorflow/python/eager/polymorphic_function/polymorphic_function.py\u001b[0m in \u001b[0;36m__call__\u001b[0;34m(self, *args, **kwds)\u001b[0m\n\u001b[1;32m    831\u001b[0m \u001b[0;34m\u001b[0m\u001b[0m\n\u001b[1;32m    832\u001b[0m       \u001b[0;32mwith\u001b[0m \u001b[0mOptionalXlaContext\u001b[0m\u001b[0;34m(\u001b[0m\u001b[0mself\u001b[0m\u001b[0;34m.\u001b[0m\u001b[0m_jit_compile\u001b[0m\u001b[0;34m)\u001b[0m\u001b[0;34m:\u001b[0m\u001b[0;34m\u001b[0m\u001b[0;34m\u001b[0m\u001b[0m\n\u001b[0;32m--> 833\u001b[0;31m         \u001b[0mresult\u001b[0m \u001b[0;34m=\u001b[0m \u001b[0mself\u001b[0m\u001b[0;34m.\u001b[0m\u001b[0m_call\u001b[0m\u001b[0;34m(\u001b[0m\u001b[0;34m*\u001b[0m\u001b[0margs\u001b[0m\u001b[0;34m,\u001b[0m \u001b[0;34m**\u001b[0m\u001b[0mkwds\u001b[0m\u001b[0;34m)\u001b[0m\u001b[0;34m\u001b[0m\u001b[0;34m\u001b[0m\u001b[0m\n\u001b[0m\u001b[1;32m    834\u001b[0m \u001b[0;34m\u001b[0m\u001b[0m\n\u001b[1;32m    835\u001b[0m       \u001b[0mnew_tracing_count\u001b[0m \u001b[0;34m=\u001b[0m \u001b[0mself\u001b[0m\u001b[0;34m.\u001b[0m\u001b[0mexperimental_get_tracing_count\u001b[0m\u001b[0;34m(\u001b[0m\u001b[0;34m)\u001b[0m\u001b[0;34m\u001b[0m\u001b[0;34m\u001b[0m\u001b[0m\n",
            "\u001b[0;32m/usr/local/lib/python3.11/dist-packages/tensorflow/python/eager/polymorphic_function/polymorphic_function.py\u001b[0m in \u001b[0;36m_call\u001b[0;34m(self, *args, **kwds)\u001b[0m\n\u001b[1;32m    876\u001b[0m       \u001b[0;31m# In this case we have not created variables on the first call. So we can\u001b[0m\u001b[0;34m\u001b[0m\u001b[0;34m\u001b[0m\u001b[0m\n\u001b[1;32m    877\u001b[0m       \u001b[0;31m# run the first trace but we should fail if variables are created.\u001b[0m\u001b[0;34m\u001b[0m\u001b[0;34m\u001b[0m\u001b[0m\n\u001b[0;32m--> 878\u001b[0;31m       results = tracing_compilation.call_function(\n\u001b[0m\u001b[1;32m    879\u001b[0m           \u001b[0margs\u001b[0m\u001b[0;34m,\u001b[0m \u001b[0mkwds\u001b[0m\u001b[0;34m,\u001b[0m \u001b[0mself\u001b[0m\u001b[0;34m.\u001b[0m\u001b[0m_variable_creation_config\u001b[0m\u001b[0;34m\u001b[0m\u001b[0;34m\u001b[0m\u001b[0m\n\u001b[1;32m    880\u001b[0m       )\n",
            "\u001b[0;32m/usr/local/lib/python3.11/dist-packages/tensorflow/python/eager/polymorphic_function/tracing_compilation.py\u001b[0m in \u001b[0;36mcall_function\u001b[0;34m(args, kwargs, tracing_options)\u001b[0m\n\u001b[1;32m    137\u001b[0m   \u001b[0mbound_args\u001b[0m \u001b[0;34m=\u001b[0m \u001b[0mfunction\u001b[0m\u001b[0;34m.\u001b[0m\u001b[0mfunction_type\u001b[0m\u001b[0;34m.\u001b[0m\u001b[0mbind\u001b[0m\u001b[0;34m(\u001b[0m\u001b[0;34m*\u001b[0m\u001b[0margs\u001b[0m\u001b[0;34m,\u001b[0m \u001b[0;34m**\u001b[0m\u001b[0mkwargs\u001b[0m\u001b[0;34m)\u001b[0m\u001b[0;34m\u001b[0m\u001b[0;34m\u001b[0m\u001b[0m\n\u001b[1;32m    138\u001b[0m   \u001b[0mflat_inputs\u001b[0m \u001b[0;34m=\u001b[0m \u001b[0mfunction\u001b[0m\u001b[0;34m.\u001b[0m\u001b[0mfunction_type\u001b[0m\u001b[0;34m.\u001b[0m\u001b[0munpack_inputs\u001b[0m\u001b[0;34m(\u001b[0m\u001b[0mbound_args\u001b[0m\u001b[0;34m)\u001b[0m\u001b[0;34m\u001b[0m\u001b[0;34m\u001b[0m\u001b[0m\n\u001b[0;32m--> 139\u001b[0;31m   return function._call_flat(  # pylint: disable=protected-access\n\u001b[0m\u001b[1;32m    140\u001b[0m       \u001b[0mflat_inputs\u001b[0m\u001b[0;34m,\u001b[0m \u001b[0mcaptured_inputs\u001b[0m\u001b[0;34m=\u001b[0m\u001b[0mfunction\u001b[0m\u001b[0;34m.\u001b[0m\u001b[0mcaptured_inputs\u001b[0m\u001b[0;34m\u001b[0m\u001b[0;34m\u001b[0m\u001b[0m\n\u001b[1;32m    141\u001b[0m   )\n",
            "\u001b[0;32m/usr/local/lib/python3.11/dist-packages/tensorflow/python/eager/polymorphic_function/concrete_function.py\u001b[0m in \u001b[0;36m_call_flat\u001b[0;34m(self, tensor_inputs, captured_inputs)\u001b[0m\n\u001b[1;32m   1320\u001b[0m         and executing_eagerly):\n\u001b[1;32m   1321\u001b[0m       \u001b[0;31m# No tape is watching; skip to running the function.\u001b[0m\u001b[0;34m\u001b[0m\u001b[0;34m\u001b[0m\u001b[0m\n\u001b[0;32m-> 1322\u001b[0;31m       \u001b[0;32mreturn\u001b[0m \u001b[0mself\u001b[0m\u001b[0;34m.\u001b[0m\u001b[0m_inference_function\u001b[0m\u001b[0;34m.\u001b[0m\u001b[0mcall_preflattened\u001b[0m\u001b[0;34m(\u001b[0m\u001b[0margs\u001b[0m\u001b[0;34m)\u001b[0m\u001b[0;34m\u001b[0m\u001b[0;34m\u001b[0m\u001b[0m\n\u001b[0m\u001b[1;32m   1323\u001b[0m     forward_backward = self._select_forward_and_backward_functions(\n\u001b[1;32m   1324\u001b[0m         \u001b[0margs\u001b[0m\u001b[0;34m,\u001b[0m\u001b[0;34m\u001b[0m\u001b[0;34m\u001b[0m\u001b[0m\n",
            "\u001b[0;32m/usr/local/lib/python3.11/dist-packages/tensorflow/python/eager/polymorphic_function/atomic_function.py\u001b[0m in \u001b[0;36mcall_preflattened\u001b[0;34m(self, args)\u001b[0m\n\u001b[1;32m    214\u001b[0m   \u001b[0;32mdef\u001b[0m \u001b[0mcall_preflattened\u001b[0m\u001b[0;34m(\u001b[0m\u001b[0mself\u001b[0m\u001b[0;34m,\u001b[0m \u001b[0margs\u001b[0m\u001b[0;34m:\u001b[0m \u001b[0mSequence\u001b[0m\u001b[0;34m[\u001b[0m\u001b[0mcore\u001b[0m\u001b[0;34m.\u001b[0m\u001b[0mTensor\u001b[0m\u001b[0;34m]\u001b[0m\u001b[0;34m)\u001b[0m \u001b[0;34m->\u001b[0m \u001b[0mAny\u001b[0m\u001b[0;34m:\u001b[0m\u001b[0;34m\u001b[0m\u001b[0;34m\u001b[0m\u001b[0m\n\u001b[1;32m    215\u001b[0m     \u001b[0;34m\"\"\"Calls with flattened tensor inputs and returns the structured output.\"\"\"\u001b[0m\u001b[0;34m\u001b[0m\u001b[0;34m\u001b[0m\u001b[0m\n\u001b[0;32m--> 216\u001b[0;31m     \u001b[0mflat_outputs\u001b[0m \u001b[0;34m=\u001b[0m \u001b[0mself\u001b[0m\u001b[0;34m.\u001b[0m\u001b[0mcall_flat\u001b[0m\u001b[0;34m(\u001b[0m\u001b[0;34m*\u001b[0m\u001b[0margs\u001b[0m\u001b[0;34m)\u001b[0m\u001b[0;34m\u001b[0m\u001b[0;34m\u001b[0m\u001b[0m\n\u001b[0m\u001b[1;32m    217\u001b[0m     \u001b[0;32mreturn\u001b[0m \u001b[0mself\u001b[0m\u001b[0;34m.\u001b[0m\u001b[0mfunction_type\u001b[0m\u001b[0;34m.\u001b[0m\u001b[0mpack_output\u001b[0m\u001b[0;34m(\u001b[0m\u001b[0mflat_outputs\u001b[0m\u001b[0;34m)\u001b[0m\u001b[0;34m\u001b[0m\u001b[0;34m\u001b[0m\u001b[0m\n\u001b[1;32m    218\u001b[0m \u001b[0;34m\u001b[0m\u001b[0m\n",
            "\u001b[0;32m/usr/local/lib/python3.11/dist-packages/tensorflow/python/eager/polymorphic_function/atomic_function.py\u001b[0m in \u001b[0;36mcall_flat\u001b[0;34m(self, *args)\u001b[0m\n\u001b[1;32m    249\u001b[0m         \u001b[0;32mwith\u001b[0m \u001b[0mrecord\u001b[0m\u001b[0;34m.\u001b[0m\u001b[0mstop_recording\u001b[0m\u001b[0;34m(\u001b[0m\u001b[0;34m)\u001b[0m\u001b[0;34m:\u001b[0m\u001b[0;34m\u001b[0m\u001b[0;34m\u001b[0m\u001b[0m\n\u001b[1;32m    250\u001b[0m           \u001b[0;32mif\u001b[0m \u001b[0mself\u001b[0m\u001b[0;34m.\u001b[0m\u001b[0m_bound_context\u001b[0m\u001b[0;34m.\u001b[0m\u001b[0mexecuting_eagerly\u001b[0m\u001b[0;34m(\u001b[0m\u001b[0;34m)\u001b[0m\u001b[0;34m:\u001b[0m\u001b[0;34m\u001b[0m\u001b[0;34m\u001b[0m\u001b[0m\n\u001b[0;32m--> 251\u001b[0;31m             outputs = self._bound_context.call_function(\n\u001b[0m\u001b[1;32m    252\u001b[0m                 \u001b[0mself\u001b[0m\u001b[0;34m.\u001b[0m\u001b[0mname\u001b[0m\u001b[0;34m,\u001b[0m\u001b[0;34m\u001b[0m\u001b[0;34m\u001b[0m\u001b[0m\n\u001b[1;32m    253\u001b[0m                 \u001b[0mlist\u001b[0m\u001b[0;34m(\u001b[0m\u001b[0margs\u001b[0m\u001b[0;34m)\u001b[0m\u001b[0;34m,\u001b[0m\u001b[0;34m\u001b[0m\u001b[0;34m\u001b[0m\u001b[0m\n",
            "\u001b[0;32m/usr/local/lib/python3.11/dist-packages/tensorflow/python/eager/context.py\u001b[0m in \u001b[0;36mcall_function\u001b[0;34m(self, name, tensor_inputs, num_outputs)\u001b[0m\n\u001b[1;32m   1686\u001b[0m     \u001b[0mcancellation_context\u001b[0m \u001b[0;34m=\u001b[0m \u001b[0mcancellation\u001b[0m\u001b[0;34m.\u001b[0m\u001b[0mcontext\u001b[0m\u001b[0;34m(\u001b[0m\u001b[0;34m)\u001b[0m\u001b[0;34m\u001b[0m\u001b[0;34m\u001b[0m\u001b[0m\n\u001b[1;32m   1687\u001b[0m     \u001b[0;32mif\u001b[0m \u001b[0mcancellation_context\u001b[0m \u001b[0;32mis\u001b[0m \u001b[0;32mNone\u001b[0m\u001b[0;34m:\u001b[0m\u001b[0;34m\u001b[0m\u001b[0;34m\u001b[0m\u001b[0m\n\u001b[0;32m-> 1688\u001b[0;31m       outputs = execute.execute(\n\u001b[0m\u001b[1;32m   1689\u001b[0m           \u001b[0mname\u001b[0m\u001b[0;34m.\u001b[0m\u001b[0mdecode\u001b[0m\u001b[0;34m(\u001b[0m\u001b[0;34m\"utf-8\"\u001b[0m\u001b[0;34m)\u001b[0m\u001b[0;34m,\u001b[0m\u001b[0;34m\u001b[0m\u001b[0;34m\u001b[0m\u001b[0m\n\u001b[1;32m   1690\u001b[0m           \u001b[0mnum_outputs\u001b[0m\u001b[0;34m=\u001b[0m\u001b[0mnum_outputs\u001b[0m\u001b[0;34m,\u001b[0m\u001b[0;34m\u001b[0m\u001b[0;34m\u001b[0m\u001b[0m\n",
            "\u001b[0;32m/usr/local/lib/python3.11/dist-packages/tensorflow/python/eager/execute.py\u001b[0m in \u001b[0;36mquick_execute\u001b[0;34m(op_name, num_outputs, inputs, attrs, ctx, name)\u001b[0m\n\u001b[1;32m     51\u001b[0m   \u001b[0;32mtry\u001b[0m\u001b[0;34m:\u001b[0m\u001b[0;34m\u001b[0m\u001b[0;34m\u001b[0m\u001b[0m\n\u001b[1;32m     52\u001b[0m     \u001b[0mctx\u001b[0m\u001b[0;34m.\u001b[0m\u001b[0mensure_initialized\u001b[0m\u001b[0;34m(\u001b[0m\u001b[0;34m)\u001b[0m\u001b[0;34m\u001b[0m\u001b[0;34m\u001b[0m\u001b[0m\n\u001b[0;32m---> 53\u001b[0;31m     tensors = pywrap_tfe.TFE_Py_Execute(ctx._handle, device_name, op_name,\n\u001b[0m\u001b[1;32m     54\u001b[0m                                         inputs, attrs, num_outputs)\n\u001b[1;32m     55\u001b[0m   \u001b[0;32mexcept\u001b[0m \u001b[0mcore\u001b[0m\u001b[0;34m.\u001b[0m\u001b[0m_NotOkStatusException\u001b[0m \u001b[0;32mas\u001b[0m \u001b[0me\u001b[0m\u001b[0;34m:\u001b[0m\u001b[0;34m\u001b[0m\u001b[0;34m\u001b[0m\u001b[0m\n",
            "\u001b[0;31mKeyboardInterrupt\u001b[0m: "
          ]
        }
      ],
      "execution_count": 20
    },
    {
      "cell_type": "markdown",
      "source": [
        "# Compute your predictions on the test set!\n",
        "\n",
        "This will create a file that can be submitted to the competition."
      ],
      "metadata": {
        "id": "3CrEHqKPjCwy"
      }
    },
    {
      "cell_type": "code",
      "source": [
        "test_ds = get_test_dataset(ordered=True) # since we are splitting the dataset and iterating separately on images and ids, order matters.\n",
        "\n",
        "print('Computing predictions...')\n",
        "test_images_ds = test_ds.map(lambda image, idnum: image)\n",
        "probabilities = model.predict(test_images_ds)\n",
        "predictions = np.argmax(probabilities, axis=-1)\n",
        "print(predictions)\n",
        "\n",
        "print('Generating submission.csv file...')\n",
        "test_ids_ds = test_ds.map(lambda image, idnum: idnum).unbatch()\n",
        "test_ids = next(iter(test_ids_ds.batch(NUM_TEST_IMAGES))).numpy().astype('U') # all in one batch\n",
        "np.savetxt('submission.csv', np.rec.fromarrays([test_ids, predictions]), fmt=['%s', '%d'], delimiter=',', header='id,label', comments='')"
      ],
      "metadata": {
        "trusted": true,
        "id": "NZimbVKgjCwy"
      },
      "outputs": [],
      "execution_count": null
    },
    {
      "cell_type": "code",
      "source": [],
      "metadata": {
        "trusted": true,
        "id": "sYb1gm8AjCwz"
      },
      "outputs": [],
      "execution_count": null
    }
  ]
}